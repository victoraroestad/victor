{
 "cells": [
  {
   "cell_type": "code",
   "execution_count": 1,
   "id": "606c3715",
   "metadata": {},
   "outputs": [
    {
     "name": "stdout",
     "output_type": "stream",
     "text": [
      "hello\n"
     ]
    }
   ],
   "source": [
    "print('hello')"
   ]
  },
  {
   "cell_type": "code",
   "execution_count": 3,
   "id": "5bfdb219",
   "metadata": {
    "scrolled": true
   },
   "outputs": [
    {
     "name": "stdout",
     "output_type": "stream",
     "text": [
      "new\n"
     ]
    }
   ],
   "source": [
    "print('new') # Shift + enter"
   ]
  },
  {
   "cell_type": "markdown",
   "id": "37dde7c1",
   "metadata": {},
   "source": [
    "### Her kan jeg velge overskrift (3)"
   ]
  },
  {
   "cell_type": "markdown",
   "id": "53b4550a",
   "metadata": {},
   "source": [
    "Eller vanlig tekst"
   ]
  },
  {
   "cell_type": "code",
   "execution_count": 5,
   "id": "64f6baf7",
   "metadata": {},
   "outputs": [],
   "source": [
    "list = \"melk,brød,kokt skinke,løk,durum vete\""
   ]
  },
  {
   "cell_type": "code",
   "execution_count": 7,
   "id": "808e3d60",
   "metadata": {},
   "outputs": [
    {
     "data": {
      "text/plain": [
       "['melk', 'brød', 'kokt skinke', 'løk', 'durum vete']"
      ]
     },
     "execution_count": 7,
     "metadata": {},
     "output_type": "execute_result"
    }
   ],
   "source": [
    "list.split(',')"
   ]
  },
  {
   "cell_type": "code",
   "execution_count": 16,
   "id": "7258269d",
   "metadata": {},
   "outputs": [],
   "source": [
    "spam = 40"
   ]
  },
  {
   "cell_type": "code",
   "execution_count": 11,
   "id": "a744a225",
   "metadata": {},
   "outputs": [
    {
     "name": "stdout",
     "output_type": "stream",
     "text": [
      "True\n"
     ]
    }
   ],
   "source": [
    "print( spam < 50)"
   ]
  },
  {
   "cell_type": "code",
   "execution_count": 30,
   "id": "448ce81e",
   "metadata": {},
   "outputs": [
    {
     "name": "stdout",
     "output_type": "stream",
     "text": [
      "small spam\n"
     ]
    }
   ],
   "source": [
    "if spam < 50:\n",
    "    print(\"small spam\")\n",
    "else:\n",
    "    print(\"big spam\")"
   ]
  },
  {
   "cell_type": "markdown",
   "id": "94aff713",
   "metadata": {},
   "source": [
    "Hvordan bruke .format for å hente inn string, numbers, etc. inn i tekst, med en linje."
   ]
  },
  {
   "cell_type": "code",
   "execution_count": 27,
   "id": "55891426",
   "metadata": {},
   "outputs": [],
   "source": [
    "name = \"Victor\"\n",
    "last_name = \"Røstad\""
   ]
  },
  {
   "cell_type": "code",
   "execution_count": 29,
   "id": "36865e50",
   "metadata": {},
   "outputs": [
    {
     "data": {
      "text/plain": [
       "'Hi Victor Røstad, how are you'"
      ]
     },
     "execution_count": 29,
     "metadata": {},
     "output_type": "execute_result"
    }
   ],
   "source": [
    "'Hi {1} {0}, how are you'.format(last_name, name)"
   ]
  },
  {
   "cell_type": "markdown",
   "id": "d0e07e1f",
   "metadata": {},
   "source": [
    "og med nøkkler."
   ]
  },
  {
   "cell_type": "code",
   "execution_count": 32,
   "id": "ca4003d6",
   "metadata": {},
   "outputs": [
    {
     "data": {
      "text/plain": [
       "'Hi Victor Røstad, how are you'"
      ]
     },
     "execution_count": 32,
     "metadata": {},
     "output_type": "execute_result"
    }
   ],
   "source": [
    "'Hi {fn} {ln}, how are you'.format(ln = last_name, fn = name)"
   ]
  },
  {
   "cell_type": "markdown",
   "id": "379d80dd",
   "metadata": {},
   "source": [
    "Hvordan bestemme lengde på desimaltall?"
   ]
  },
  {
   "cell_type": "code",
   "execution_count": 33,
   "id": "a05fc091",
   "metadata": {},
   "outputs": [],
   "source": [
    "resultat = 100/777"
   ]
  },
  {
   "cell_type": "markdown",
   "id": "14e10005",
   "metadata": {},
   "source": []
  },
  {
   "cell_type": "code",
   "execution_count": 34,
   "id": "4f59eb5d",
   "metadata": {},
   "outputs": [
    {
     "data": {
      "text/plain": [
       "0.1287001287001287"
      ]
     },
     "execution_count": 34,
     "metadata": {},
     "output_type": "execute_result"
    }
   ],
   "source": [
    "resultat"
   ]
  },
  {
   "cell_type": "code",
   "execution_count": 42,
   "id": "b78c0b61",
   "metadata": {},
   "outputs": [
    {
     "name": "stdout",
     "output_type": "stream",
     "text": [
      "Resultatet var  0.129\n"
     ]
    }
   ],
   "source": [
    "print(\"Resultatet var {r:6.3f}\".format(r=resultat)) \n",
    "# {verdi:avstand:lengde f} - r = verdi, 6 = total bredde på resultatet...2 spaces + 4 tall, 3 = 3 desimaler"
   ]
  },
  {
   "cell_type": "markdown",
   "id": "582e6f90",
   "metadata": {},
   "source": [
    "Bruk av f-string"
   ]
  },
  {
   "cell_type": "code",
   "execution_count": 44,
   "id": "eddb8a5b",
   "metadata": {},
   "outputs": [
    {
     "name": "stdout",
     "output_type": "stream",
     "text": [
      "Hei Victor, heter du Røstad til etternavn?\n"
     ]
    }
   ],
   "source": [
    "print(f'Hei {name}, heter du {last_name} til etternavn?')"
   ]
  },
  {
   "cell_type": "markdown",
   "id": "cdbfb4dc",
   "metadata": {},
   "source": [
    "## Lister"
   ]
  },
  {
   "cell_type": "markdown",
   "id": "51c0391f",
   "metadata": {},
   "source": [
    "Slå sammen lister:"
   ]
  },
  {
   "cell_type": "code",
   "execution_count": 45,
   "id": "70bac9da",
   "metadata": {},
   "outputs": [],
   "source": [
    "liste = [1,2,3]\n",
    "annen_liste = [4,5,6]"
   ]
  },
  {
   "cell_type": "code",
   "execution_count": 46,
   "id": "382db3fe",
   "metadata": {},
   "outputs": [
    {
     "data": {
      "text/plain": [
       "[1, 2, 3, 4, 5, 6]"
      ]
     },
     "execution_count": 46,
     "metadata": {},
     "output_type": "execute_result"
    }
   ],
   "source": [
    "liste + annen_liste"
   ]
  },
  {
   "cell_type": "code",
   "execution_count": 47,
   "id": "cf8786cb",
   "metadata": {},
   "outputs": [],
   "source": [
    "hel_liste = liste + annen_liste"
   ]
  },
  {
   "cell_type": "code",
   "execution_count": 48,
   "id": "d49a3c92",
   "metadata": {},
   "outputs": [
    {
     "data": {
      "text/plain": [
       "[1, 2, 3, 4, 5, 6]"
      ]
     },
     "execution_count": 48,
     "metadata": {},
     "output_type": "execute_result"
    }
   ],
   "source": [
    "hel_liste"
   ]
  },
  {
   "cell_type": "markdown",
   "id": "0df1c40c",
   "metadata": {},
   "source": [
    "Endre objekt i liste:"
   ]
  },
  {
   "cell_type": "code",
   "execution_count": 49,
   "id": "e6f19429",
   "metadata": {},
   "outputs": [],
   "source": [
    "hel_liste[0] = \"En med bokstaver\""
   ]
  },
  {
   "cell_type": "code",
   "execution_count": 50,
   "id": "260ad98b",
   "metadata": {
    "scrolled": true
   },
   "outputs": [
    {
     "data": {
      "text/plain": [
       "['En med bokstaver', 2, 3, 4, 5, 6]"
      ]
     },
     "execution_count": 50,
     "metadata": {},
     "output_type": "execute_result"
    }
   ],
   "source": [
    "hel_liste"
   ]
  },
  {
   "cell_type": "markdown",
   "id": "37d61603",
   "metadata": {},
   "source": [
    "Legge til element:"
   ]
  },
  {
   "cell_type": "code",
   "execution_count": 52,
   "id": "0f76ce7f",
   "metadata": {},
   "outputs": [],
   "source": [
    "hel_liste.append('sju')"
   ]
  },
  {
   "cell_type": "code",
   "execution_count": 53,
   "id": "2d74168c",
   "metadata": {},
   "outputs": [
    {
     "data": {
      "text/plain": [
       "['En med bokstaver', 2, 3, 4, 5, 6, 'sju']"
      ]
     },
     "execution_count": 53,
     "metadata": {},
     "output_type": "execute_result"
    }
   ],
   "source": [
    "hel_liste"
   ]
  },
  {
   "cell_type": "markdown",
   "id": "2011974f",
   "metadata": {},
   "source": [
    "Fjerne siste element i en liste:"
   ]
  },
  {
   "cell_type": "code",
   "execution_count": 54,
   "id": "9a449aa4",
   "metadata": {},
   "outputs": [
    {
     "data": {
      "text/plain": [
       "'sju'"
      ]
     },
     "execution_count": 54,
     "metadata": {},
     "output_type": "execute_result"
    }
   ],
   "source": [
    "hel_liste.pop()"
   ]
  },
  {
   "cell_type": "code",
   "execution_count": 55,
   "id": "fc140f36",
   "metadata": {},
   "outputs": [
    {
     "data": {
      "text/plain": [
       "['En med bokstaver', 2, 3, 4, 5, 6]"
      ]
     },
     "execution_count": 55,
     "metadata": {},
     "output_type": "execute_result"
    }
   ],
   "source": [
    "hel_liste"
   ]
  },
  {
   "cell_type": "code",
   "execution_count": 56,
   "id": "d8aa76aa",
   "metadata": {},
   "outputs": [],
   "source": [
    "poppet_element = hel_liste.pop()"
   ]
  },
  {
   "cell_type": "code",
   "execution_count": 57,
   "id": "7e1f68b2",
   "metadata": {},
   "outputs": [
    {
     "data": {
      "text/plain": [
       "6"
      ]
     },
     "execution_count": 57,
     "metadata": {},
     "output_type": "execute_result"
    }
   ],
   "source": [
    "poppet_element"
   ]
  },
  {
   "cell_type": "code",
   "execution_count": 58,
   "id": "b979f2f7",
   "metadata": {},
   "outputs": [
    {
     "data": {
      "text/plain": [
       "['En med bokstaver', 2, 3, 4, 5]"
      ]
     },
     "execution_count": 58,
     "metadata": {},
     "output_type": "execute_result"
    }
   ],
   "source": [
    "hel_liste"
   ]
  },
  {
   "cell_type": "code",
   "execution_count": 59,
   "id": "ded7c64c",
   "metadata": {},
   "outputs": [],
   "source": [
    "pop_foerste = hel_liste.pop(0)"
   ]
  },
  {
   "cell_type": "code",
   "execution_count": 60,
   "id": "25aebad2",
   "metadata": {},
   "outputs": [
    {
     "data": {
      "text/plain": [
       "'En med bokstaver'"
      ]
     },
     "execution_count": 60,
     "metadata": {},
     "output_type": "execute_result"
    }
   ],
   "source": [
    "pop_foerste"
   ]
  },
  {
   "cell_type": "code",
   "execution_count": 61,
   "id": "b43c38c5",
   "metadata": {},
   "outputs": [
    {
     "data": {
      "text/plain": [
       "[2, 3, 4, 5]"
      ]
     },
     "execution_count": 61,
     "metadata": {},
     "output_type": "execute_result"
    }
   ],
   "source": [
    "hel_liste"
   ]
  },
  {
   "cell_type": "markdown",
   "id": "0e50e721",
   "metadata": {},
   "source": [
    "Sortere lister:"
   ]
  },
  {
   "cell_type": "code",
   "execution_count": 63,
   "id": "c3fce342",
   "metadata": {},
   "outputs": [],
   "source": [
    "ny_liste = ['k','a','g','d','b']\n",
    "num_liste = [4,3,8,5,2]"
   ]
  },
  {
   "cell_type": "code",
   "execution_count": 65,
   "id": "6890f0eb",
   "metadata": {},
   "outputs": [],
   "source": [
    "ny_liste.sort()"
   ]
  },
  {
   "cell_type": "code",
   "execution_count": 66,
   "id": "e037258f",
   "metadata": {},
   "outputs": [
    {
     "data": {
      "text/plain": [
       "['a', 'b', 'd', 'g', 'k']"
      ]
     },
     "execution_count": 66,
     "metadata": {},
     "output_type": "execute_result"
    }
   ],
   "source": [
    "ny_liste"
   ]
  },
  {
   "cell_type": "code",
   "execution_count": 67,
   "id": "32310a4f",
   "metadata": {},
   "outputs": [],
   "source": [
    "num_liste.sort()"
   ]
  },
  {
   "cell_type": "code",
   "execution_count": 68,
   "id": "780f86a3",
   "metadata": {},
   "outputs": [
    {
     "data": {
      "text/plain": [
       "[2, 3, 4, 5, 8]"
      ]
     },
     "execution_count": 68,
     "metadata": {},
     "output_type": "execute_result"
    }
   ],
   "source": [
    "num_liste"
   ]
  },
  {
   "cell_type": "markdown",
   "id": "3c972b2c",
   "metadata": {},
   "source": [
    "## Dictionaries"
   ]
  },
  {
   "cell_type": "code",
   "execution_count": 6,
   "id": "c2a8d709",
   "metadata": {},
   "outputs": [],
   "source": [
    "my_dict = {'key1':'value1','key2':'value2'}"
   ]
  },
  {
   "cell_type": "code",
   "execution_count": 7,
   "id": "e3bd3781",
   "metadata": {},
   "outputs": [
    {
     "data": {
      "text/plain": [
       "'value1'"
      ]
     },
     "execution_count": 7,
     "metadata": {},
     "output_type": "execute_result"
    }
   ],
   "source": [
    "my_dict['key1']"
   ]
  },
  {
   "cell_type": "markdown",
   "id": "07adffed",
   "metadata": {},
   "source": [
    "Eksempel"
   ]
  },
  {
   "cell_type": "code",
   "execution_count": 9,
   "id": "5d77fa97",
   "metadata": {},
   "outputs": [],
   "source": [
    "pris_sjekk = {'epler':12.59,'pærer':15.50,'druer':10.45}"
   ]
  },
  {
   "cell_type": "code",
   "execution_count": 11,
   "id": "bb1412ff",
   "metadata": {},
   "outputs": [
    {
     "data": {
      "text/plain": [
       "12.59"
      ]
     },
     "execution_count": 11,
     "metadata": {},
     "output_type": "execute_result"
    }
   ],
   "source": [
    "pris_sjekk['epler']"
   ]
  },
  {
   "cell_type": "markdown",
   "id": "11814719",
   "metadata": {},
   "source": [
    "Dictionaries kan holde mange elementer, selv lister og dictionaries inni:"
   ]
  },
  {
   "cell_type": "code",
   "execution_count": 24,
   "id": "abd84b2b",
   "metadata": {},
   "outputs": [],
   "source": [
    "d = {'k1':2.4,'k2':[1,2,3],'k3':{'inni':100}}"
   ]
  },
  {
   "cell_type": "code",
   "execution_count": 26,
   "id": "16c4fff8",
   "metadata": {},
   "outputs": [
    {
     "data": {
      "text/plain": [
       "3"
      ]
     },
     "execution_count": 26,
     "metadata": {},
     "output_type": "execute_result"
    }
   ],
   "source": [
    "d['k2'][2]"
   ]
  },
  {
   "cell_type": "code",
   "execution_count": 25,
   "id": "f55098aa",
   "metadata": {},
   "outputs": [
    {
     "data": {
      "text/plain": [
       "100"
      ]
     },
     "execution_count": 25,
     "metadata": {},
     "output_type": "execute_result"
    }
   ],
   "source": [
    "d['k3']['inni']"
   ]
  },
  {
   "cell_type": "code",
   "execution_count": 27,
   "id": "cbdde865",
   "metadata": {},
   "outputs": [],
   "source": [
    "d['k4'] = 'Eplekaramell'"
   ]
  },
  {
   "cell_type": "code",
   "execution_count": 28,
   "id": "d6c09487",
   "metadata": {},
   "outputs": [
    {
     "data": {
      "text/plain": [
       "{'k1': 2.4, 'k2': [1, 2, 3], 'k3': {'inni': 100}, 'k4': 'Eplekaramell'}"
      ]
     },
     "execution_count": 28,
     "metadata": {},
     "output_type": "execute_result"
    }
   ],
   "source": [
    "d"
   ]
  },
  {
   "cell_type": "code",
   "execution_count": 30,
   "id": "24fed27b",
   "metadata": {},
   "outputs": [],
   "source": [
    "d['k1'] = 'NY VERDI'"
   ]
  },
  {
   "cell_type": "code",
   "execution_count": 31,
   "id": "70406692",
   "metadata": {},
   "outputs": [
    {
     "data": {
      "text/plain": [
       "{'k1': 'NY VERDI', 'k2': [1, 2, 3], 'k3': {'inni': 100}, 'k4': 'Eplekaramell'}"
      ]
     },
     "execution_count": 31,
     "metadata": {},
     "output_type": "execute_result"
    }
   ],
   "source": [
    "d"
   ]
  },
  {
   "cell_type": "code",
   "execution_count": 33,
   "id": "3d99bfee",
   "metadata": {},
   "outputs": [],
   "source": [
    "p = {}"
   ]
  },
  {
   "cell_type": "code",
   "execution_count": 34,
   "id": "aec98d04",
   "metadata": {},
   "outputs": [],
   "source": [
    "p['nr1'] = 'FØRSTE ELLEMENT'"
   ]
  },
  {
   "cell_type": "code",
   "execution_count": 35,
   "id": "00eb6cf7",
   "metadata": {},
   "outputs": [
    {
     "data": {
      "text/plain": [
       "{'nr1': 'FØRSTE ELLEMENT'}"
      ]
     },
     "execution_count": 35,
     "metadata": {},
     "output_type": "execute_result"
    }
   ],
   "source": [
    "p"
   ]
  },
  {
   "cell_type": "code",
   "execution_count": 37,
   "id": "0bc02185",
   "metadata": {},
   "outputs": [
    {
     "data": {
      "text/plain": [
       "dict_keys(['k1', 'k2', 'k3', 'k4'])"
      ]
     },
     "execution_count": 37,
     "metadata": {},
     "output_type": "execute_result"
    }
   ],
   "source": [
    "d.keys()"
   ]
  },
  {
   "cell_type": "code",
   "execution_count": 38,
   "id": "163f96e5",
   "metadata": {},
   "outputs": [
    {
     "data": {
      "text/plain": [
       "dict_values(['NY VERDI', [1, 2, 3], {'inni': 100}, 'Eplekaramell'])"
      ]
     },
     "execution_count": 38,
     "metadata": {},
     "output_type": "execute_result"
    }
   ],
   "source": [
    "d.values()"
   ]
  },
  {
   "cell_type": "code",
   "execution_count": 39,
   "id": "ac0d8c7f",
   "metadata": {},
   "outputs": [
    {
     "data": {
      "text/plain": [
       "dict_items([('k1', 'NY VERDI'), ('k2', [1, 2, 3]), ('k3', {'inni': 100}), ('k4', 'Eplekaramell')])"
      ]
     },
     "execution_count": 39,
     "metadata": {},
     "output_type": "execute_result"
    }
   ],
   "source": [
    "d.items()"
   ]
  },
  {
   "cell_type": "markdown",
   "id": "b7307539",
   "metadata": {},
   "source": [
    "## Tuples"
   ]
  },
  {
   "cell_type": "markdown",
   "id": "48560437",
   "metadata": {},
   "source": [
    "Tuples are immutable (kan ikke endres/muteres)"
   ]
  },
  {
   "cell_type": "code",
   "execution_count": 44,
   "id": "fde9f3f1",
   "metadata": {},
   "outputs": [],
   "source": [
    "t = ('en',2,3.0)"
   ]
  },
  {
   "cell_type": "code",
   "execution_count": 41,
   "id": "87516ff1",
   "metadata": {},
   "outputs": [],
   "source": [
    "liste = [1,2,3]"
   ]
  },
  {
   "cell_type": "code",
   "execution_count": 42,
   "id": "db23d458",
   "metadata": {},
   "outputs": [
    {
     "data": {
      "text/plain": [
       "tuple"
      ]
     },
     "execution_count": 42,
     "metadata": {},
     "output_type": "execute_result"
    }
   ],
   "source": [
    "type(t)"
   ]
  },
  {
   "cell_type": "code",
   "execution_count": 43,
   "id": "cf2355e4",
   "metadata": {},
   "outputs": [
    {
     "data": {
      "text/plain": [
       "list"
      ]
     },
     "execution_count": 43,
     "metadata": {},
     "output_type": "execute_result"
    }
   ],
   "source": [
    "type(liste)"
   ]
  },
  {
   "cell_type": "code",
   "execution_count": 45,
   "id": "eca6e2a2",
   "metadata": {},
   "outputs": [
    {
     "data": {
      "text/plain": [
       "2"
      ]
     },
     "execution_count": 45,
     "metadata": {},
     "output_type": "execute_result"
    }
   ],
   "source": [
    "t[1]"
   ]
  },
  {
   "cell_type": "code",
   "execution_count": 46,
   "id": "8b2c97fc",
   "metadata": {},
   "outputs": [
    {
     "data": {
      "text/plain": [
       "(2, 3.0)"
      ]
     },
     "execution_count": 46,
     "metadata": {},
     "output_type": "execute_result"
    }
   ],
   "source": [
    "t[1:]"
   ]
  },
  {
   "cell_type": "code",
   "execution_count": 47,
   "id": "ea42ad6c",
   "metadata": {},
   "outputs": [],
   "source": [
    "t = ('a','a','b','c')"
   ]
  },
  {
   "cell_type": "code",
   "execution_count": 48,
   "id": "359f87e2",
   "metadata": {},
   "outputs": [
    {
     "data": {
      "text/plain": [
       "2"
      ]
     },
     "execution_count": 48,
     "metadata": {},
     "output_type": "execute_result"
    }
   ],
   "source": [
    "t.count('a') # telle antal a'er i t"
   ]
  },
  {
   "cell_type": "code",
   "execution_count": 49,
   "id": "427cbc97",
   "metadata": {},
   "outputs": [
    {
     "data": {
      "text/plain": [
       "0"
      ]
     },
     "execution_count": 49,
     "metadata": {},
     "output_type": "execute_result"
    }
   ],
   "source": [
    "t.index('a') # se hvilken plassering første a har i t"
   ]
  },
  {
   "cell_type": "code",
   "execution_count": 50,
   "id": "9970e4b8",
   "metadata": {},
   "outputs": [],
   "source": [
    "liste[0] = 'NY'"
   ]
  },
  {
   "cell_type": "code",
   "execution_count": 51,
   "id": "3fbd1387",
   "metadata": {},
   "outputs": [
    {
     "data": {
      "text/plain": [
       "['NY', 2, 3]"
      ]
     },
     "execution_count": 51,
     "metadata": {},
     "output_type": "execute_result"
    }
   ],
   "source": [
    "liste"
   ]
  },
  {
   "cell_type": "code",
   "execution_count": 52,
   "id": "e759a254",
   "metadata": {},
   "outputs": [
    {
     "ename": "TypeError",
     "evalue": "'tuple' object does not support item assignment",
     "output_type": "error",
     "traceback": [
      "\u001b[1;31m---------------------------------------------------------------------------\u001b[0m",
      "\u001b[1;31mTypeError\u001b[0m                                 Traceback (most recent call last)",
      "\u001b[1;32m~\\AppData\\Local\\Temp\\ipykernel_13720\\3439469335.py\u001b[0m in \u001b[0;36m<module>\u001b[1;34m\u001b[0m\n\u001b[1;32m----> 1\u001b[1;33m \u001b[0mt\u001b[0m\u001b[1;33m[\u001b[0m\u001b[1;36m0\u001b[0m\u001b[1;33m]\u001b[0m \u001b[1;33m=\u001b[0m \u001b[1;34m'NY'\u001b[0m\u001b[1;33m\u001b[0m\u001b[1;33m\u001b[0m\u001b[0m\n\u001b[0m",
      "\u001b[1;31mTypeError\u001b[0m: 'tuple' object does not support item assignment"
     ]
    }
   ],
   "source": [
    "t[0] = 'NY' # fungerer ikke, da touples er immutable og ikke kan gjøres endringer inni"
   ]
  },
  {
   "cell_type": "markdown",
   "id": "05a4b7ae",
   "metadata": {},
   "source": [
    "Touples brukes ikke såå ofte, men vil brukes når du skal ha verdier som er sikret mot feilaktig endring (globale verdier) - sikrer data integritet"
   ]
  },
  {
   "cell_type": "markdown",
   "id": "805c45d3",
   "metadata": {},
   "source": [
    "## Sets"
   ]
  },
  {
   "cell_type": "code",
   "execution_count": 53,
   "id": "ea3fb704",
   "metadata": {},
   "outputs": [],
   "source": [
    "myset = set()"
   ]
  },
  {
   "cell_type": "code",
   "execution_count": 54,
   "id": "7199cb2e",
   "metadata": {},
   "outputs": [
    {
     "data": {
      "text/plain": [
       "set()"
      ]
     },
     "execution_count": 54,
     "metadata": {},
     "output_type": "execute_result"
    }
   ],
   "source": [
    "myset"
   ]
  },
  {
   "cell_type": "code",
   "execution_count": 57,
   "id": "53343607",
   "metadata": {},
   "outputs": [],
   "source": [
    "myset.add(1) # Legge til \"1\" i settet som er opprettet"
   ]
  },
  {
   "cell_type": "code",
   "execution_count": 58,
   "id": "05413db7",
   "metadata": {},
   "outputs": [
    {
     "data": {
      "text/plain": [
       "{1}"
      ]
     },
     "execution_count": 58,
     "metadata": {},
     "output_type": "execute_result"
    }
   ],
   "source": [
    "myset"
   ]
  },
  {
   "cell_type": "code",
   "execution_count": 59,
   "id": "0114d8f3",
   "metadata": {},
   "outputs": [],
   "source": [
    "myset.add(2) # Legge til \"2\" i settet"
   ]
  },
  {
   "cell_type": "code",
   "execution_count": 60,
   "id": "bec455f7",
   "metadata": {},
   "outputs": [
    {
     "data": {
      "text/plain": [
       "{1, 2}"
      ]
     },
     "execution_count": 60,
     "metadata": {},
     "output_type": "execute_result"
    }
   ],
   "source": [
    "myset"
   ]
  },
  {
   "cell_type": "code",
   "execution_count": 61,
   "id": "b87710fb",
   "metadata": {},
   "outputs": [],
   "source": [
    "myset.add(2) # Legge til \"2\" igjen"
   ]
  },
  {
   "cell_type": "code",
   "execution_count": 62,
   "id": "cfd96b3a",
   "metadata": {},
   "outputs": [
    {
     "data": {
      "text/plain": [
       "{1, 2}"
      ]
     },
     "execution_count": 62,
     "metadata": {},
     "output_type": "execute_result"
    }
   ],
   "source": [
    "myset # Ser at \"2\" fremdeles kun vises én gang, da man kun kan ha unike verdier i sett"
   ]
  },
  {
   "cell_type": "markdown",
   "id": "04ef23a9",
   "metadata": {},
   "source": [
    "Hente ut unike verdier fra en liste, med et sett"
   ]
  },
  {
   "cell_type": "code",
   "execution_count": 65,
   "id": "415fe9f7",
   "metadata": {},
   "outputs": [],
   "source": [
    "mylist = [2,2,2,2,4,4,4,5,5,5,1,1,1,1,1,2,2,2,2,2,3,3,3,4,4,4]"
   ]
  },
  {
   "cell_type": "code",
   "execution_count": 67,
   "id": "75b6ea66",
   "metadata": {},
   "outputs": [
    {
     "data": {
      "text/plain": [
       "{1, 2, 3, 4, 5}"
      ]
     },
     "execution_count": 67,
     "metadata": {},
     "output_type": "execute_result"
    }
   ],
   "source": [
    "set(mylist) # Settet vises i ordnet rekkefølge her, men set er ikke laget for å komme ordnet"
   ]
  },
  {
   "cell_type": "markdown",
   "id": "33b9ef14",
   "metadata": {},
   "source": [
    "Kan også brukes på strenger for å finne unike karakterer"
   ]
  },
  {
   "cell_type": "code",
   "execution_count": 68,
   "id": "c5266d14",
   "metadata": {},
   "outputs": [
    {
     "data": {
      "text/plain": [
       "{'M', 'i', 'p', 's'}"
      ]
     },
     "execution_count": 68,
     "metadata": {},
     "output_type": "execute_result"
    }
   ],
   "source": [
    "set('Mississippi')"
   ]
  },
  {
   "cell_type": "markdown",
   "id": "1e19c6d5",
   "metadata": {},
   "source": [
    "## Booleans"
   ]
  },
  {
   "cell_type": "code",
   "execution_count": 69,
   "id": "3f15bd3a",
   "metadata": {},
   "outputs": [
    {
     "data": {
      "text/plain": [
       "True"
      ]
     },
     "execution_count": 69,
     "metadata": {},
     "output_type": "execute_result"
    }
   ],
   "source": [
    "True # med stor T ellers er det ikke en Boolean"
   ]
  },
  {
   "cell_type": "code",
   "execution_count": 71,
   "id": "352fb85f",
   "metadata": {},
   "outputs": [
    {
     "ename": "NameError",
     "evalue": "name 'true' is not defined",
     "output_type": "error",
     "traceback": [
      "\u001b[1;31m---------------------------------------------------------------------------\u001b[0m",
      "\u001b[1;31mNameError\u001b[0m                                 Traceback (most recent call last)",
      "\u001b[1;32m~\\AppData\\Local\\Temp\\ipykernel_13720\\592217714.py\u001b[0m in \u001b[0;36m<module>\u001b[1;34m\u001b[0m\n\u001b[1;32m----> 1\u001b[1;33m \u001b[0mtrue\u001b[0m\u001b[1;33m\u001b[0m\u001b[1;33m\u001b[0m\u001b[0m\n\u001b[0m",
      "\u001b[1;31mNameError\u001b[0m: name 'true' is not defined"
     ]
    }
   ],
   "source": [
    "true"
   ]
  },
  {
   "cell_type": "code",
   "execution_count": 72,
   "id": "d7b1252b",
   "metadata": {},
   "outputs": [
    {
     "data": {
      "text/plain": [
       "False"
      ]
     },
     "execution_count": 72,
     "metadata": {},
     "output_type": "execute_result"
    }
   ],
   "source": [
    "False # samme med False med stor F"
   ]
  },
  {
   "cell_type": "code",
   "execution_count": 73,
   "id": "b6930a06",
   "metadata": {},
   "outputs": [
    {
     "data": {
      "text/plain": [
       "bool"
      ]
     },
     "execution_count": 73,
     "metadata": {},
     "output_type": "execute_result"
    }
   ],
   "source": [
    "type(False)"
   ]
  },
  {
   "cell_type": "code",
   "execution_count": 74,
   "id": "210fb230",
   "metadata": {},
   "outputs": [
    {
     "data": {
      "text/plain": [
       "False"
      ]
     },
     "execution_count": 74,
     "metadata": {},
     "output_type": "execute_result"
    }
   ],
   "source": [
    "1 > 2 # mattematisk uttrykk som svarer med en Boolean, dersom noe er eller ikke er sant"
   ]
  },
  {
   "cell_type": "code",
   "execution_count": 75,
   "id": "4cf48f62",
   "metadata": {},
   "outputs": [
    {
     "data": {
      "text/plain": [
       "True"
      ]
     },
     "execution_count": 75,
     "metadata": {},
     "output_type": "execute_result"
    }
   ],
   "source": [
    "1 == 1 # to == i Python betyr an noe er likt, ett = er for å lage en variabel e.l."
   ]
  },
  {
   "cell_type": "code",
   "execution_count": 76,
   "id": "1f9a7334",
   "metadata": {},
   "outputs": [
    {
     "ename": "NameError",
     "evalue": "name 'b' is not defined",
     "output_type": "error",
     "traceback": [
      "\u001b[1;31m---------------------------------------------------------------------------\u001b[0m",
      "\u001b[1;31mNameError\u001b[0m                                 Traceback (most recent call last)",
      "\u001b[1;32m~\\AppData\\Local\\Temp\\ipykernel_13720\\2707992833.py\u001b[0m in \u001b[0;36m<module>\u001b[1;34m\u001b[0m\n\u001b[1;32m----> 1\u001b[1;33m \u001b[0mb\u001b[0m \u001b[1;31m# ikke definert ennå, så vil gi feil\u001b[0m\u001b[1;33m\u001b[0m\u001b[1;33m\u001b[0m\u001b[0m\n\u001b[0m",
      "\u001b[1;31mNameError\u001b[0m: name 'b' is not defined"
     ]
    }
   ],
   "source": [
    "b # ikke definert ennå, så vil gi feil"
   ]
  },
  {
   "cell_type": "code",
   "execution_count": 79,
   "id": "22dd2689",
   "metadata": {},
   "outputs": [],
   "source": [
    "b = None # None kan brukes for å defienere at en variabel 'b' finnes, uten å sette verdi"
   ]
  },
  {
   "cell_type": "code",
   "execution_count": 81,
   "id": "36ebcfa8",
   "metadata": {},
   "outputs": [],
   "source": [
    "b # nå er 'b' definert uten verdi, så vil ikke returnere feil, bare tomt"
   ]
  },
  {
   "cell_type": "markdown",
   "id": "d22d33b0",
   "metadata": {},
   "source": [
    "## Jobbe med txt-filer"
   ]
  },
  {
   "cell_type": "markdown",
   "id": "e5f85337",
   "metadata": {},
   "source": [
    "Følgende måte å generere en txt fil på fungerer kun i Jupyter Notebook"
   ]
  },
  {
   "cell_type": "code",
   "execution_count": 83,
   "id": "6747dcbe",
   "metadata": {},
   "outputs": [
    {
     "name": "stdout",
     "output_type": "stream",
     "text": [
      "Writing minfil.txt\n"
     ]
    }
   ],
   "source": [
    "%%writefile minfil.txt\n",
    "Hei, dette er første linje\n",
    "dette er linje nummer to \n",
    "og dette er siste og tredje linje"
   ]
  },
  {
   "cell_type": "code",
   "execution_count": 91,
   "id": "8138fee3",
   "metadata": {},
   "outputs": [],
   "source": [
    "myfile = open('minfil.txt') # gir ingen error, da filen finnes"
   ]
  },
  {
   "cell_type": "code",
   "execution_count": 85,
   "id": "1f091797",
   "metadata": {},
   "outputs": [
    {
     "ename": "FileNotFoundError",
     "evalue": "[Errno 2] No such file or directory: 'fil_som_ikke_finnes.txt'",
     "output_type": "error",
     "traceback": [
      "\u001b[1;31m---------------------------------------------------------------------------\u001b[0m",
      "\u001b[1;31mFileNotFoundError\u001b[0m                         Traceback (most recent call last)",
      "\u001b[1;32m~\\AppData\\Local\\Temp\\ipykernel_13720\\778514225.py\u001b[0m in \u001b[0;36m<module>\u001b[1;34m\u001b[0m\n\u001b[1;32m----> 1\u001b[1;33m \u001b[0mmyfile\u001b[0m \u001b[1;33m=\u001b[0m \u001b[0mopen\u001b[0m\u001b[1;33m(\u001b[0m\u001b[1;34m'fil_som_ikke_finnes.txt'\u001b[0m\u001b[1;33m)\u001b[0m \u001b[1;31m# gir error nr 2, manglende fil\u001b[0m\u001b[1;33m\u001b[0m\u001b[1;33m\u001b[0m\u001b[0m\n\u001b[0m",
      "\u001b[1;31mFileNotFoundError\u001b[0m: [Errno 2] No such file or directory: 'fil_som_ikke_finnes.txt'"
     ]
    }
   ],
   "source": [
    "myfile = open('fil_som_ikke_finnes.txt') # gir error nr 2, manglende fil"
   ]
  },
  {
   "cell_type": "markdown",
   "id": "34344386",
   "metadata": {},
   "source": [
    "Kan også få samme feil dersom man ikke har lagt inn rett filsti til filen, hvis den ikke ligger i samme folder som jupyter notebook filen din er."
   ]
  },
  {
   "cell_type": "code",
   "execution_count": 87,
   "id": "bb807bb7",
   "metadata": {},
   "outputs": [
    {
     "data": {
      "text/plain": [
       "'C:\\\\Users\\\\victo\\\\Desktop\\\\Python\\\\test script'"
      ]
     },
     "execution_count": 87,
     "metadata": {},
     "output_type": "execute_result"
    }
   ],
   "source": [
    "pwd # viser filstien til hvor notebooken du jobber i er, og txt-filer du skal jobbe med bør ligge i samm folder"
   ]
  },
  {
   "cell_type": "markdown",
   "id": "71418b4d",
   "metadata": {},
   "source": [
    "Kan også åpne filer i en annen folder ved å legge inn hele stien i en spørring - \n",
    "F.eks. myfile = open(\"C:\\\\Users\\\\victo\\\\Desktop\\\\Python\\\\test script\\\\minfil.txt\")"
   ]
  },
  {
   "cell_type": "code",
   "execution_count": 92,
   "id": "4ec8804f",
   "metadata": {},
   "outputs": [
    {
     "data": {
      "text/plain": [
       "'Hei, dette er fÃ¸rste linje\\ndette er linje nummer to \\nog dette er siste og tredje linje\\n'"
      ]
     },
     "execution_count": 92,
     "metadata": {},
     "output_type": "execute_result"
    }
   ],
   "source": [
    "myfile.read() # viser alt som står i filen i én lang streng"
   ]
  },
  {
   "cell_type": "code",
   "execution_count": 93,
   "id": "c9824231",
   "metadata": {},
   "outputs": [
    {
     "data": {
      "text/plain": [
       "''"
      ]
     },
     "execution_count": 93,
     "metadata": {},
     "output_type": "execute_result"
    }
   ],
   "source": [
    "myfile.read() # gir deg ikke innhold. Det er fordi kommandoen leser igjennom til bunn og fortsetter derfra, altså ikke mer innhold"
   ]
  },
  {
   "cell_type": "code",
   "execution_count": 94,
   "id": "fc17551e",
   "metadata": {},
   "outputs": [
    {
     "data": {
      "text/plain": [
       "0"
      ]
     },
     "execution_count": 94,
     "metadata": {},
     "output_type": "execute_result"
    }
   ],
   "source": [
    "myfile.seek(0) # resetter markøren / leseren tilbake til punkt 0 (start)"
   ]
  },
  {
   "cell_type": "code",
   "execution_count": 95,
   "id": "20b72cba",
   "metadata": {},
   "outputs": [
    {
     "data": {
      "text/plain": [
       "'Hei, dette er fÃ¸rste linje\\ndette er linje nummer to \\nog dette er siste og tredje linje\\n'"
      ]
     },
     "execution_count": 95,
     "metadata": {},
     "output_type": "execute_result"
    }
   ],
   "source": [
    "myfile.read() # kommandoen leser nå fra markøren som nå er på starten av filen"
   ]
  },
  {
   "cell_type": "code",
   "execution_count": 96,
   "id": "146eaddf",
   "metadata": {},
   "outputs": [
    {
     "data": {
      "text/plain": [
       "0"
      ]
     },
     "execution_count": 96,
     "metadata": {},
     "output_type": "execute_result"
    }
   ],
   "source": [
    "myfile.seek(0)"
   ]
  },
  {
   "cell_type": "code",
   "execution_count": 97,
   "id": "0fa7b92a",
   "metadata": {},
   "outputs": [],
   "source": [
    "innhold = myfile.read() # lagrer innholdet som leses i en egen variabel, slik at man ikke må gå tilbake hver gang"
   ]
  },
  {
   "cell_type": "code",
   "execution_count": 98,
   "id": "c5e42278",
   "metadata": {},
   "outputs": [
    {
     "data": {
      "text/plain": [
       "'Hei, dette er fÃ¸rste linje\\ndette er linje nummer to \\nog dette er siste og tredje linje\\n'"
      ]
     },
     "execution_count": 98,
     "metadata": {},
     "output_type": "execute_result"
    }
   ],
   "source": [
    "innhold"
   ]
  },
  {
   "cell_type": "code",
   "execution_count": 103,
   "id": "68fe1e0c",
   "metadata": {},
   "outputs": [
    {
     "data": {
      "text/plain": [
       "0"
      ]
     },
     "execution_count": 103,
     "metadata": {},
     "output_type": "execute_result"
    }
   ],
   "source": [
    "myfile.seek(0)"
   ]
  },
  {
   "cell_type": "code",
   "execution_count": 104,
   "id": "bc6ebcca",
   "metadata": {},
   "outputs": [
    {
     "data": {
      "text/plain": [
       "['Hei, dette er fÃ¸rste linje\\n',\n",
       " 'dette er linje nummer to \\n',\n",
       " 'og dette er siste og tredje linje\\n']"
      ]
     },
     "execution_count": 104,
     "metadata": {},
     "output_type": "execute_result"
    }
   ],
   "source": [
    "myfile.readlines() # gir tekst-filen linje for linje som separate objekter i en liste"
   ]
  },
  {
   "cell_type": "code",
   "execution_count": 105,
   "id": "b1f8667a",
   "metadata": {},
   "outputs": [],
   "source": [
    "myfile.close() # filen må lukkes etter bruk, for at ikke filen skal være låst dersom man åpner filen en anne plass"
   ]
  },
  {
   "cell_type": "code",
   "execution_count": 106,
   "id": "664aeb8f",
   "metadata": {},
   "outputs": [],
   "source": [
    "with open('minfil.txt') as min_nye_fil: # her slipper man å tenke på å lukke filen, da den kun kopier innholdet og luker\n",
    "    innhold = min_nye_fil.read()"
   ]
  },
  {
   "cell_type": "code",
   "execution_count": 107,
   "id": "515a6e75",
   "metadata": {},
   "outputs": [
    {
     "data": {
      "text/plain": [
       "'Hei, dette er fÃ¸rste linje\\ndette er linje nummer to \\nog dette er siste og tredje linje\\n'"
      ]
     },
     "execution_count": 107,
     "metadata": {},
     "output_type": "execute_result"
    }
   ],
   "source": [
    "innhold"
   ]
  },
  {
   "cell_type": "markdown",
   "id": "06789c8e",
   "metadata": {},
   "source": [
    "### Skrive til og overskrive filer"
   ]
  },
  {
   "cell_type": "code",
   "execution_count": 112,
   "id": "65fc4bc0",
   "metadata": {},
   "outputs": [
    {
     "ename": "UnsupportedOperation",
     "evalue": "not readable",
     "output_type": "error",
     "traceback": [
      "\u001b[1;31m---------------------------------------------------------------------------\u001b[0m",
      "\u001b[1;31mUnsupportedOperation\u001b[0m                      Traceback (most recent call last)",
      "\u001b[1;32m~\\AppData\\Local\\Temp\\ipykernel_13720\\4005557596.py\u001b[0m in \u001b[0;36m<module>\u001b[1;34m\u001b[0m\n\u001b[0;32m      1\u001b[0m \u001b[1;32mwith\u001b[0m \u001b[0mopen\u001b[0m\u001b[1;33m(\u001b[0m\u001b[1;34m'minfil.txt'\u001b[0m\u001b[1;33m,\u001b[0m\u001b[0mmode\u001b[0m\u001b[1;33m=\u001b[0m\u001b[1;34m'w'\u001b[0m\u001b[1;33m)\u001b[0m \u001b[1;32mas\u001b[0m \u001b[0mmyfile\u001b[0m\u001b[1;33m:\u001b[0m \u001b[1;31m# mode can være r for read, w for write eller a for append\u001b[0m\u001b[1;33m\u001b[0m\u001b[1;33m\u001b[0m\u001b[0m\n\u001b[1;32m----> 2\u001b[1;33m     \u001b[0mcontents\u001b[0m \u001b[1;33m=\u001b[0m \u001b[0mmyfile\u001b[0m\u001b[1;33m.\u001b[0m\u001b[0mread\u001b[0m\u001b[1;33m(\u001b[0m\u001b[1;33m)\u001b[0m \u001b[1;31m# bruker vi da kommando read, blir det feil når man over hatr valgt w\u001b[0m\u001b[1;33m\u001b[0m\u001b[1;33m\u001b[0m\u001b[0m\n\u001b[0m",
      "\u001b[1;31mUnsupportedOperation\u001b[0m: not readable"
     ]
    }
   ],
   "source": [
    "with open('minfil.txt',mode='w') as myfile: # mode can være r for read, w for write eller a for append\n",
    "    contents = myfile.read() # bruker vi da kommando read, blir det feil når man over hatr valgt w"
   ]
  },
  {
   "cell_type": "code",
   "execution_count": 115,
   "id": "948b7b60",
   "metadata": {},
   "outputs": [
    {
     "name": "stdout",
     "output_type": "stream",
     "text": [
      "Overwriting nyfil.txt\n"
     ]
    }
   ],
   "source": [
    "%%writefile nyfil.txt\n",
    "EN PÅ FØRSTE\n",
    "TO PÅ ANDRE\n",
    "TRE PÅ TREDJE"
   ]
  },
  {
   "cell_type": "code",
   "execution_count": 116,
   "id": "74c34e74",
   "metadata": {},
   "outputs": [
    {
     "name": "stdout",
     "output_type": "stream",
     "text": [
      "EN PÃ… FÃ˜RSTE\n",
      "TO PÃ… ANDRE\n",
      "TRE PÃ… TREDJE\n",
      "\n"
     ]
    }
   ],
   "source": [
    "with open('nyfil.txt', mode='r') as f: # for å lese og lagre i variabel f\n",
    "    print(f.read())"
   ]
  },
  {
   "cell_type": "code",
   "execution_count": 117,
   "id": "af1297df",
   "metadata": {},
   "outputs": [],
   "source": [
    "with open('nyfil.txt', mode='a') as f: # for å legge til innhold i filen brukes mode a\n",
    "    f.write('FIRE PÅ FJERDE')"
   ]
  },
  {
   "cell_type": "code",
   "execution_count": 120,
   "id": "24859e57",
   "metadata": {},
   "outputs": [
    {
     "name": "stdout",
     "output_type": "stream",
     "text": [
      "EN PÃ… FÃ˜RSTE\n",
      "TO PÃ… ANDRE\n",
      "TRE PÃ… TREDJE\n",
      "FIRE PÅ FJERDE\n"
     ]
    }
   ],
   "source": [
    "with open('nyfil.txt', mode='r') as f: # gjentar lesing etter å ha lagt til og ser at en fjerde linje kommer på\n",
    "    print(f.read())"
   ]
  },
  {
   "cell_type": "code",
   "execution_count": 125,
   "id": "7f3a9683",
   "metadata": {},
   "outputs": [],
   "source": [
    "with open('iohjfdosj.txt', mode='w') as f: # for å overskrive filer som finnes eller eller lage ny fil om den ikke finnes\n",
    "    f.write('JEG LAGDE DENNE FILEN!')"
   ]
  },
  {
   "cell_type": "code",
   "execution_count": 126,
   "id": "c1eb4a1b",
   "metadata": {},
   "outputs": [
    {
     "name": "stdout",
     "output_type": "stream",
     "text": [
      "JEG LAGDE DENNE FILEN!\n"
     ]
    }
   ],
   "source": [
    "with open('iohjfdosj.txt', mode='r') as f: # åpner og leser filen vi lagde, skriv iog og TAB for autocomplete filnavn\n",
    "    print(f.read())"
   ]
  },
  {
   "cell_type": "markdown",
   "id": "a7edd6e9",
   "metadata": {},
   "source": [
    "## Comparison operators"
   ]
  },
  {
   "cell_type": "code",
   "execution_count": 127,
   "id": "1a7d6061",
   "metadata": {},
   "outputs": [
    {
     "data": {
      "text/plain": [
       "True"
      ]
     },
     "execution_count": 127,
     "metadata": {},
     "output_type": "execute_result"
    }
   ],
   "source": [
    "2 == 2"
   ]
  },
  {
   "cell_type": "code",
   "execution_count": 128,
   "id": "43d6f1f4",
   "metadata": {},
   "outputs": [
    {
     "data": {
      "text/plain": [
       "False"
      ]
     },
     "execution_count": 128,
     "metadata": {},
     "output_type": "execute_result"
    }
   ],
   "source": [
    "3 != 3"
   ]
  },
  {
   "cell_type": "code",
   "execution_count": 129,
   "id": "95d11d27",
   "metadata": {},
   "outputs": [
    {
     "data": {
      "text/plain": [
       "True"
      ]
     },
     "execution_count": 129,
     "metadata": {},
     "output_type": "execute_result"
    }
   ],
   "source": [
    "4 != 5"
   ]
  },
  {
   "cell_type": "code",
   "execution_count": 130,
   "id": "16b94c85",
   "metadata": {},
   "outputs": [
    {
     "data": {
      "text/plain": [
       "True"
      ]
     },
     "execution_count": 130,
     "metadata": {},
     "output_type": "execute_result"
    }
   ],
   "source": [
    "2 > 1"
   ]
  },
  {
   "cell_type": "code",
   "execution_count": 131,
   "id": "94b06305",
   "metadata": {},
   "outputs": [
    {
     "data": {
      "text/plain": [
       "False"
      ]
     },
     "execution_count": 131,
     "metadata": {},
     "output_type": "execute_result"
    }
   ],
   "source": [
    "2 < 1"
   ]
  },
  {
   "cell_type": "code",
   "execution_count": 133,
   "id": "bfa5bad2",
   "metadata": {},
   "outputs": [
    {
     "data": {
      "text/plain": [
       "True"
      ]
     },
     "execution_count": 133,
     "metadata": {},
     "output_type": "execute_result"
    }
   ],
   "source": [
    "2 <= 2"
   ]
  },
  {
   "cell_type": "code",
   "execution_count": 134,
   "id": "84f70766",
   "metadata": {},
   "outputs": [
    {
     "data": {
      "text/plain": [
       "True"
      ]
     },
     "execution_count": 134,
     "metadata": {},
     "output_type": "execute_result"
    }
   ],
   "source": [
    "2 >= 2"
   ]
  },
  {
   "cell_type": "code",
   "execution_count": 137,
   "id": "20e81a29",
   "metadata": {},
   "outputs": [
    {
     "data": {
      "text/plain": [
       "True"
      ]
     },
     "execution_count": 137,
     "metadata": {},
     "output_type": "execute_result"
    }
   ],
   "source": [
    "# Method 1\n",
    "1 < 2 < 3"
   ]
  },
  {
   "cell_type": "code",
   "execution_count": 138,
   "id": "02c93bd4",
   "metadata": {},
   "outputs": [
    {
     "data": {
      "text/plain": [
       "True"
      ]
     },
     "execution_count": 138,
     "metadata": {},
     "output_type": "execute_result"
    }
   ],
   "source": [
    "# Method 2\n",
    "1 < 2 and 2 < 3 # May also use parenteces (1 < 2) and (2 < 3)"
   ]
  },
  {
   "cell_type": "code",
   "execution_count": 139,
   "id": "528cf5ca",
   "metadata": {},
   "outputs": [
    {
     "data": {
      "text/plain": [
       "True"
      ]
     },
     "execution_count": 139,
     "metadata": {},
     "output_type": "execute_result"
    }
   ],
   "source": [
    "1 == 1 or 2 == 3 # Only one has to be true"
   ]
  },
  {
   "cell_type": "code",
   "execution_count": 141,
   "id": "915ae2d7",
   "metadata": {},
   "outputs": [
    {
     "data": {
      "text/plain": [
       "True"
      ]
     },
     "execution_count": 141,
     "metadata": {},
     "output_type": "execute_result"
    }
   ],
   "source": [
    "not(1 == 2) # Give the oposite boolean. Can also be without parenteces"
   ]
  },
  {
   "cell_type": "markdown",
   "id": "80c2745f",
   "metadata": {},
   "source": [
    "## Statements"
   ]
  },
  {
   "cell_type": "markdown",
   "id": "3e2ba7c7",
   "metadata": {},
   "source": [
    "### IF, ELIF, ELSE"
   ]
  },
  {
   "cell_type": "code",
   "execution_count": 150,
   "id": "cad541f6",
   "metadata": {},
   "outputs": [
    {
     "name": "stdout",
     "output_type": "stream",
     "text": [
      "Let's eat!\n"
     ]
    }
   ],
   "source": [
    "hungry = True\n",
    "\n",
    "if hungry:\n",
    "    print(\"Let's eat!\")\n",
    "else:\n",
    "    print(\"I'm full\")"
   ]
  },
  {
   "cell_type": "code",
   "execution_count": 151,
   "id": "a7cca7e1",
   "metadata": {},
   "outputs": [
    {
     "name": "stdout",
     "output_type": "stream",
     "text": [
      "I'm full\n"
     ]
    }
   ],
   "source": [
    "hungry = False\n",
    "\n",
    "if hungry:\n",
    "    print(\"Let's eat!\")\n",
    "else:\n",
    "    print(\"I'm full\")"
   ]
  },
  {
   "cell_type": "code",
   "execution_count": 156,
   "id": "1bbc0b5b",
   "metadata": {},
   "outputs": [
    {
     "name": "stdout",
     "output_type": "stream",
     "text": [
      "Show me the money!\n"
     ]
    }
   ],
   "source": [
    "loc = 'Bank' # location is ...\n",
    "\n",
    "if loc == 'Auto Shop':          # This is not true, goes to next check\n",
    "    print('Cars are cool!')\n",
    "elif loc == 'Bank':             # This condition is true, there for this gives the result\n",
    "    print('Show me the money!') \n",
    "elif loc == 'Beach':            # It never comes to this, because last condition is true\n",
    "    print(\"Let's swim!\")\n",
    "else:\n",
    "    print('I do not know much')"
   ]
  },
  {
   "cell_type": "markdown",
   "id": "f5ace4e1",
   "metadata": {},
   "source": [
    "## For loops"
   ]
  },
  {
   "cell_type": "code",
   "execution_count": 171,
   "id": "ef50496d",
   "metadata": {},
   "outputs": [
    {
     "name": "stdout",
     "output_type": "stream",
     "text": [
      "Alva\n",
      "Alva\n"
     ]
    }
   ],
   "source": [
    "my_children = ['Sarah', 'Alva']\n",
    "\n",
    "for name in my_children: # Går igjennom ett og ett object i listen og gjør print av objectet\n",
    "    print(i)"
   ]
  },
  {
   "cell_type": "code",
   "execution_count": 172,
   "id": "969692ac",
   "metadata": {},
   "outputs": [
    {
     "name": "stdout",
     "output_type": "stream",
     "text": [
      "Hei\n",
      "Hei\n"
     ]
    }
   ],
   "source": [
    "my_children = ['Sarah', 'Alva']\n",
    "\n",
    "for name in my_children: # Går igjennom ett og ett object i listen og gjør print noe helt annet\n",
    "    print('Hei')"
   ]
  },
  {
   "cell_type": "code",
   "execution_count": 173,
   "id": "0323ffe5",
   "metadata": {},
   "outputs": [
    {
     "name": "stdout",
     "output_type": "stream",
     "text": [
      "Hei Alva\n",
      "Hei Alva\n"
     ]
    }
   ],
   "source": [
    "my_children = ['Sarah', 'Alva']\n",
    "\n",
    "for name in my_children: # Går igjennom ett og ett object i listen og gjør print av kombo\n",
    "    print('Hei ' + i)"
   ]
  },
  {
   "cell_type": "code",
   "execution_count": 179,
   "id": "debffdc7",
   "metadata": {},
   "outputs": [
    {
     "name": "stdout",
     "output_type": "stream",
     "text": [
      "Odd number\n",
      "2\n",
      "Odd number\n",
      "4\n",
      "Odd number\n",
      "6\n",
      "Odd number\n",
      "8\n",
      "Odd number\n",
      "10\n"
     ]
    }
   ],
   "source": [
    "my_num_list = [1,2,3,4,5,6,7,8,9,10]\n",
    "\n",
    "for num in my_num_list:\n",
    "    #Check for even\n",
    "    if num % 2 == 0: # delelig med 2 og at det blir 0 til overs\n",
    "        print(num)\n",
    "    else:\n",
    "        print('Odd number')"
   ]
  },
  {
   "cell_type": "code",
   "execution_count": 186,
   "id": "a4f72ba1",
   "metadata": {},
   "outputs": [
    {
     "name": "stdout",
     "output_type": "stream",
     "text": [
      "Odd number: 1\n",
      "Even number: 2\n",
      "Odd number: 3\n",
      "Even number: 4\n",
      "Odd number: 5\n",
      "Even number: 6\n",
      "Odd number: 7\n",
      "Even number: 8\n",
      "Odd number: 9\n",
      "Even number: 10\n"
     ]
    }
   ],
   "source": [
    "my_num_list = [1,2,3,4,5,6,7,8,9,10]\n",
    "\n",
    "for num in my_num_list:\n",
    "    #Check for odd\n",
    "    if num % 2 != 0: # delelig med 2 og at det blir noe til overs\n",
    "        print(f'Odd number: {num}') # f-string with just curly brackets {} and what variable in the curly brackets\n",
    "    else:\n",
    "        print(f'Even number: {num}') # f-string with just curly brackets {} and what variable in the curly brackets"
   ]
  },
  {
   "cell_type": "markdown",
   "id": "e9c7d14e",
   "metadata": {},
   "source": [
    "### Summere tall i listen"
   ]
  },
  {
   "cell_type": "code",
   "execution_count": 192,
   "id": "cada83ae",
   "metadata": {},
   "outputs": [
    {
     "name": "stdout",
     "output_type": "stream",
     "text": [
      "55\n"
     ]
    }
   ],
   "source": [
    "list_sum = 0\n",
    "\n",
    "for num in my_num_list: # Denne løper igjennom og repeterer til alle objecter i my_num_list er gjennomgått\n",
    "    list_sum = list_sum + num # Første runde er 0 + 1, slik at list_sum blir 1, så 1 + 2 (neste nummer i listen), osv.\n",
    "    \n",
    "print(list_sum) # Denne ligger utenfor for-loopen, ellers hadde den printet ut hver utregning på en egen linje\n",
    "# til slutt er list_sum lik 0+1+2+3+4+5+6+7+8+9+10 = 55"
   ]
  },
  {
   "cell_type": "markdown",
   "id": "bb9d62e3",
   "metadata": {},
   "source": [
    "### For loop with string"
   ]
  },
  {
   "cell_type": "code",
   "execution_count": 193,
   "id": "e4c8d822",
   "metadata": {},
   "outputs": [
    {
     "name": "stdout",
     "output_type": "stream",
     "text": [
      "H\n",
      "e\n",
      "l\n",
      "l\n",
      "o\n",
      " \n",
      "W\n",
      "o\n",
      "r\n",
      "l\n",
      "d\n"
     ]
    }
   ],
   "source": [
    "mystring = 'Hello World'\n",
    "\n",
    "for letter in mystring:\n",
    "    print(letter)"
   ]
  },
  {
   "cell_type": "markdown",
   "id": "dfc95564",
   "metadata": {},
   "source": [
    "### For loop in tuple"
   ]
  },
  {
   "cell_type": "code",
   "execution_count": 197,
   "id": "0fd625b9",
   "metadata": {},
   "outputs": [
    {
     "name": "stdout",
     "output_type": "stream",
     "text": [
      "1\n",
      "2\n",
      "3\n",
      "4\n"
     ]
    }
   ],
   "source": [
    "tup = (1,2,3,4)\n",
    "\n",
    "for item in tup:\n",
    "    print(item)"
   ]
  },
  {
   "cell_type": "markdown",
   "id": "53868d69",
   "metadata": {},
   "source": [
    "### List of tuples, and tuple unpacking"
   ]
  },
  {
   "cell_type": "code",
   "execution_count": 198,
   "id": "f0732c07",
   "metadata": {},
   "outputs": [],
   "source": [
    "mylist = [(1,2),(3,4),(5,6),(7,8)]"
   ]
  },
  {
   "cell_type": "code",
   "execution_count": 199,
   "id": "619fd36b",
   "metadata": {},
   "outputs": [
    {
     "data": {
      "text/plain": [
       "4"
      ]
     },
     "execution_count": 199,
     "metadata": {},
     "output_type": "execute_result"
    }
   ],
   "source": [
    "len(mylist) # Number of items in mylist"
   ]
  },
  {
   "cell_type": "code",
   "execution_count": 202,
   "id": "365b49ae",
   "metadata": {},
   "outputs": [
    {
     "name": "stdout",
     "output_type": "stream",
     "text": [
      "1\n",
      "2\n",
      "3\n",
      "4\n",
      "5\n",
      "6\n",
      "7\n",
      "8\n"
     ]
    }
   ],
   "source": [
    "for (a,b) in mylist: # or for a,b in mylist without perenteces. This is tuple unpacking\n",
    "    print(a)\n",
    "    print(b)"
   ]
  },
  {
   "cell_type": "code",
   "execution_count": 205,
   "id": "2f4b7a62",
   "metadata": {},
   "outputs": [],
   "source": [
    "mylist2 = [(1,2,3),(5,6,7),(8,9,10)]"
   ]
  },
  {
   "cell_type": "code",
   "execution_count": 209,
   "id": "25deaf5b",
   "metadata": {},
   "outputs": [
    {
     "name": "stdout",
     "output_type": "stream",
     "text": [
      "1\n",
      "5\n",
      "8\n"
     ]
    }
   ],
   "source": [
    "for a,b,c in mylist2:\n",
    "    print(a)"
   ]
  },
  {
   "cell_type": "markdown",
   "id": "8c2ba1fa",
   "metadata": {},
   "source": [
    "### For loop in dictionary"
   ]
  },
  {
   "cell_type": "code",
   "execution_count": 210,
   "id": "d3036224",
   "metadata": {},
   "outputs": [],
   "source": [
    "d = {'apples':10, 'paers':12, 'yoghurt':5}"
   ]
  },
  {
   "cell_type": "code",
   "execution_count": 212,
   "id": "13f586a4",
   "metadata": {},
   "outputs": [
    {
     "name": "stdout",
     "output_type": "stream",
     "text": [
      "apples\n",
      "paers\n",
      "yoghurt\n"
     ]
    }
   ],
   "source": [
    "for item in d:\n",
    "    print(item) # får her med kun nøklene"
   ]
  },
  {
   "cell_type": "code",
   "execution_count": 213,
   "id": "64edb262",
   "metadata": {},
   "outputs": [
    {
     "name": "stdout",
     "output_type": "stream",
     "text": [
      "('apples', 10)\n",
      "('paers', 12)\n",
      "('yoghurt', 5)\n"
     ]
    }
   ],
   "source": [
    "for item in d.items(): # Må ha med .items() for å få med både nølkler og verdier\n",
    "    print(item)"
   ]
  },
  {
   "cell_type": "code",
   "execution_count": 219,
   "id": "6183c3b4",
   "metadata": {},
   "outputs": [
    {
     "name": "stdout",
     "output_type": "stream",
     "text": [
      "apples 10\n",
      "paers 12\n",
      "yoghurt 5\n"
     ]
    }
   ],
   "source": [
    "for key,value in d.items(): # kan da dele opp som ved tuples. Kan også bruke a,b\n",
    "    print(key,value)"
   ]
  },
  {
   "cell_type": "markdown",
   "id": "ccf2b537",
   "metadata": {},
   "source": [
    "## While loops"
   ]
  },
  {
   "cell_type": "code",
   "execution_count": 228,
   "id": "316c5536",
   "metadata": {},
   "outputs": [
    {
     "name": "stdout",
     "output_type": "stream",
     "text": [
      "The current value of i is 0\n",
      "The current value of i is 1\n",
      "The current value of i is 2\n",
      "The current value of i is 3\n",
      "The current value of i is 4\n",
      "I IS NOT LESS THAN 5\n"
     ]
    }
   ],
   "source": [
    "i = 0\n",
    "while i < 5:\n",
    "    print(f'The current value of i is {i}')\n",
    "    # i = i + 1, kan heller bruke den under\n",
    "    i += 1\n",
    "else:\n",
    "    print('I IS NOT LESS THAN 5')"
   ]
  },
  {
   "cell_type": "markdown",
   "id": "afbb7abb",
   "metadata": {},
   "source": [
    "### Break, continue and pass"
   ]
  },
  {
   "cell_type": "markdown",
   "id": "1df2c5f5",
   "metadata": {},
   "source": [
    "#### Pass"
   ]
  },
  {
   "cell_type": "code",
   "execution_count": 230,
   "id": "626ebac3",
   "metadata": {},
   "outputs": [
    {
     "ename": "IndentationError",
     "evalue": "expected an indented block (293052486.py, line 4)",
     "output_type": "error",
     "traceback": [
      "\u001b[1;36m  File \u001b[1;32m\"C:\\Users\\victo\\AppData\\Local\\Temp\\ipykernel_13720\\293052486.py\"\u001b[1;36m, line \u001b[1;32m4\u001b[0m\n\u001b[1;33m    # this is not ready yet, but will make an error\u001b[0m\n\u001b[1;37m                                                   ^\u001b[0m\n\u001b[1;31mIndentationError\u001b[0m\u001b[1;31m:\u001b[0m expected an indented block\n"
     ]
    }
   ],
   "source": [
    "x = [1,2,3]\n",
    "\n",
    "for num in x:\n",
    "    # this is not ready yet, but will make an error"
   ]
  },
  {
   "cell_type": "code",
   "execution_count": 232,
   "id": "5f448a6e",
   "metadata": {},
   "outputs": [],
   "source": [
    "x = [1,2,3]\n",
    "\n",
    "for num in x:\n",
    "    pass # use pass as a place holder, when your for loop is not ready yet"
   ]
  },
  {
   "cell_type": "markdown",
   "id": "9531e433",
   "metadata": {},
   "source": [
    "#### Continue"
   ]
  },
  {
   "cell_type": "code",
   "execution_count": 240,
   "id": "56304fe9",
   "metadata": {},
   "outputs": [],
   "source": [
    "mystring = 'Mississippi'"
   ]
  },
  {
   "cell_type": "code",
   "execution_count": 242,
   "id": "0e59d985",
   "metadata": {},
   "outputs": [
    {
     "name": "stdout",
     "output_type": "stream",
     "text": [
      "M\n",
      "s\n",
      "s\n",
      "s\n",
      "s\n",
      "p\n",
      "p\n"
     ]
    }
   ],
   "source": [
    "for letter in mystring:\n",
    "    if letter == 'i': \n",
    "        continue # går tilbake til toppen, og starter ny loop der hvor if statement er True\n",
    "    print(letter) # denne nås ikke på 'i', da continue hopper til toppen igjen før print"
   ]
  },
  {
   "cell_type": "markdown",
   "id": "b676bd94",
   "metadata": {},
   "source": [
    "#### Break"
   ]
  },
  {
   "cell_type": "code",
   "execution_count": 243,
   "id": "f19c87a5",
   "metadata": {},
   "outputs": [
    {
     "name": "stdout",
     "output_type": "stream",
     "text": [
      "M\n"
     ]
    }
   ],
   "source": [
    "for letter in mystring:\n",
    "    if letter == 'i': \n",
    "        break # Avslutter loopen og går videre nedover i koden\n",
    "    print(letter) # denne nås bare én gang, da loopen er avbrutt"
   ]
  },
  {
   "cell_type": "code",
   "execution_count": 247,
   "id": "7fb2fb2c",
   "metadata": {},
   "outputs": [
    {
     "name": "stdout",
     "output_type": "stream",
     "text": [
      "0\n",
      "1\n"
     ]
    }
   ],
   "source": [
    "x = 0\n",
    "\n",
    "while x < 5:\n",
    "    if x == 2:\n",
    "        break # bryter ut av loop når statement x == 2 er True\n",
    "    print(x) # kommer ikke hit etter at x == 2\n",
    "    x += 1"
   ]
  },
  {
   "cell_type": "markdown",
   "id": "f40f3db8",
   "metadata": {},
   "source": [
    "## Usefull operators"
   ]
  },
  {
   "cell_type": "markdown",
   "id": "b64460e4",
   "metadata": {},
   "source": [
    "### Range"
   ]
  },
  {
   "cell_type": "code",
   "execution_count": 252,
   "id": "ad1b6d1d",
   "metadata": {},
   "outputs": [
    {
     "name": "stdout",
     "output_type": "stream",
     "text": [
      "0\n",
      "2\n",
      "4\n",
      "6\n",
      "8\n",
      "10\n"
     ]
    }
   ],
   "source": [
    "for num in range(0,11,2): # Range operator har (fra,til,step)\n",
    "    print(num)"
   ]
  },
  {
   "cell_type": "code",
   "execution_count": 253,
   "id": "6240cb77",
   "metadata": {},
   "outputs": [
    {
     "data": {
      "text/plain": [
       "[0, 3, 6, 9, 12]"
      ]
     },
     "execution_count": 253,
     "metadata": {},
     "output_type": "execute_result"
    }
   ],
   "source": [
    "list(range(0,13,3))"
   ]
  },
  {
   "cell_type": "markdown",
   "id": "ce7cf3f7",
   "metadata": {},
   "source": [
    "### Enumerate, instead of counting index"
   ]
  },
  {
   "cell_type": "code",
   "execution_count": 259,
   "id": "7735c97a",
   "metadata": {},
   "outputs": [
    {
     "name": "stdout",
     "output_type": "stream",
     "text": [
      "At index 0 the letter is a\n",
      "At index 1 the letter is b\n",
      "At index 2 the letter is c\n",
      "At index 3 the letter is d\n",
      "At index 4 the letter is e\n"
     ]
    }
   ],
   "source": [
    "# Countinh the index of each letter\n",
    "index_count = 0\n",
    "\n",
    "for letter in 'abcde':\n",
    "    print(f'At index {index_count} the letter is {letter}')\n",
    "    index_count += 1"
   ]
  },
  {
   "cell_type": "code",
   "execution_count": 272,
   "id": "4b602aec",
   "metadata": {},
   "outputs": [
    {
     "name": "stdout",
     "output_type": "stream",
     "text": [
      "0 a\n",
      "\n",
      "\n",
      "1 b\n",
      "\n",
      "\n",
      "2 c\n",
      "\n",
      "\n",
      "3 d\n",
      "\n",
      "\n",
      "4 e\n",
      "\n",
      "\n"
     ]
    }
   ],
   "source": [
    "# Another way\n",
    "index_count = 0\n",
    "word = 'abcde'\n",
    "\n",
    "\n",
    "for index,letter in enumerate(word):\n",
    "    print(index,letter) # Returns tuples of index place and item name\n",
    "    print('\\n')"
   ]
  },
  {
   "cell_type": "markdown",
   "id": "5f2211ab",
   "metadata": {},
   "source": [
    "### Zip items together"
   ]
  },
  {
   "cell_type": "code",
   "execution_count": 275,
   "id": "434d8bb9",
   "metadata": {},
   "outputs": [],
   "source": [
    "mylist1 = [1,2,3]\n",
    "mylist2 = ['a','b','c']\n",
    "mylist3 = [100,200,300]"
   ]
  },
  {
   "cell_type": "code",
   "execution_count": 277,
   "id": "1f8f580f",
   "metadata": {},
   "outputs": [
    {
     "name": "stdout",
     "output_type": "stream",
     "text": [
      "(1, 'a', 100)\n",
      "(2, 'b', 200)\n",
      "(3, 'c', 300)\n"
     ]
    }
   ],
   "source": [
    "for item in zip(mylist1, mylist2,mylist3): # Making tuples out of the two lists\n",
    "    print(item)"
   ]
  },
  {
   "cell_type": "code",
   "execution_count": 278,
   "id": "d2fa514a",
   "metadata": {},
   "outputs": [
    {
     "data": {
      "text/plain": [
       "[(1, 'a'), (2, 'b'), (3, 'c')]"
      ]
     },
     "execution_count": 278,
     "metadata": {},
     "output_type": "execute_result"
    }
   ],
   "source": [
    "# Making list doirectly of tuples from other lists\n",
    "list(zip(mylist1,mylist2))"
   ]
  },
  {
   "cell_type": "markdown",
   "id": "99a573cc",
   "metadata": {},
   "source": [
    "### In operator"
   ]
  },
  {
   "cell_type": "code",
   "execution_count": 279,
   "id": "e8b5065e",
   "metadata": {},
   "outputs": [
    {
     "data": {
      "text/plain": [
       "False"
      ]
     },
     "execution_count": 279,
     "metadata": {},
     "output_type": "execute_result"
    }
   ],
   "source": [
    "'x' in [1,2,3] # True if x is in list"
   ]
  },
  {
   "cell_type": "code",
   "execution_count": 280,
   "id": "2473bb1d",
   "metadata": {},
   "outputs": [
    {
     "data": {
      "text/plain": [
       "True"
      ]
     },
     "execution_count": 280,
     "metadata": {},
     "output_type": "execute_result"
    }
   ],
   "source": [
    "'x' in ['x','y','z']"
   ]
  },
  {
   "cell_type": "code",
   "execution_count": 281,
   "id": "42c797fb",
   "metadata": {},
   "outputs": [
    {
     "data": {
      "text/plain": [
       "True"
      ]
     },
     "execution_count": 281,
     "metadata": {},
     "output_type": "execute_result"
    }
   ],
   "source": [
    "'o' in 'hello'"
   ]
  },
  {
   "cell_type": "code",
   "execution_count": 282,
   "id": "e7299035",
   "metadata": {},
   "outputs": [
    {
     "data": {
      "text/plain": [
       "True"
      ]
     },
     "execution_count": 282,
     "metadata": {},
     "output_type": "execute_result"
    }
   ],
   "source": [
    "'apple' in {'apple':3,'orange':4}"
   ]
  },
  {
   "cell_type": "code",
   "execution_count": 283,
   "id": "f9c366c6",
   "metadata": {},
   "outputs": [],
   "source": [
    "fruit = {'apple':3,'orange':4} # {keys:values}"
   ]
  },
  {
   "cell_type": "code",
   "execution_count": 284,
   "id": "d18b417a",
   "metadata": {},
   "outputs": [
    {
     "data": {
      "text/plain": [
       "True"
      ]
     },
     "execution_count": 284,
     "metadata": {},
     "output_type": "execute_result"
    }
   ],
   "source": [
    "'apple' in fruit.keys()"
   ]
  },
  {
   "cell_type": "code",
   "execution_count": 285,
   "id": "0c6965b6",
   "metadata": {},
   "outputs": [
    {
     "data": {
      "text/plain": [
       "False"
      ]
     },
     "execution_count": 285,
     "metadata": {},
     "output_type": "execute_result"
    }
   ],
   "source": [
    "'apple' in fruit.values()"
   ]
  },
  {
   "cell_type": "markdown",
   "id": "3f40b847",
   "metadata": {},
   "source": [
    "### Min and Max"
   ]
  },
  {
   "cell_type": "code",
   "execution_count": 286,
   "id": "a304f616",
   "metadata": {},
   "outputs": [],
   "source": [
    "mylist =[10,20,30,40,50]"
   ]
  },
  {
   "cell_type": "code",
   "execution_count": 289,
   "id": "06890481",
   "metadata": {},
   "outputs": [
    {
     "data": {
      "text/plain": [
       "10"
      ]
     },
     "execution_count": 289,
     "metadata": {},
     "output_type": "execute_result"
    }
   ],
   "source": [
    "min(mylist)"
   ]
  },
  {
   "cell_type": "code",
   "execution_count": 290,
   "id": "15bcc290",
   "metadata": {},
   "outputs": [
    {
     "data": {
      "text/plain": [
       "50"
      ]
     },
     "execution_count": 290,
     "metadata": {},
     "output_type": "execute_result"
    }
   ],
   "source": [
    "max(mylist)"
   ]
  },
  {
   "cell_type": "markdown",
   "id": "db88e00c",
   "metadata": {},
   "source": [
    "## Library"
   ]
  },
  {
   "cell_type": "markdown",
   "id": "d3891950",
   "metadata": {},
   "source": [
    "### Random"
   ]
  },
  {
   "cell_type": "code",
   "execution_count": 291,
   "id": "e4d17da8",
   "metadata": {},
   "outputs": [],
   "source": [
    "from random import shuffle"
   ]
  },
  {
   "cell_type": "code",
   "execution_count": 292,
   "id": "c39080d5",
   "metadata": {},
   "outputs": [],
   "source": [
    "mylist = [1,2,3,4,5,6,7,8,9]"
   ]
  },
  {
   "cell_type": "code",
   "execution_count": 293,
   "id": "22f9180f",
   "metadata": {},
   "outputs": [],
   "source": [
    "shuffle(mylist)"
   ]
  },
  {
   "cell_type": "code",
   "execution_count": 294,
   "id": "8a9bd761",
   "metadata": {},
   "outputs": [
    {
     "data": {
      "text/plain": [
       "[4, 2, 6, 5, 7, 3, 8, 9, 1]"
      ]
     },
     "execution_count": 294,
     "metadata": {},
     "output_type": "execute_result"
    }
   ],
   "source": [
    "mylist"
   ]
  },
  {
   "cell_type": "markdown",
   "id": "15569e8e",
   "metadata": {},
   "source": [
    "**Random int**"
   ]
  },
  {
   "cell_type": "code",
   "execution_count": 295,
   "id": "e2fefd32",
   "metadata": {},
   "outputs": [],
   "source": [
    "from random import randint"
   ]
  },
  {
   "cell_type": "code",
   "execution_count": 297,
   "id": "279456e5",
   "metadata": {},
   "outputs": [
    {
     "data": {
      "text/plain": [
       "71"
      ]
     },
     "execution_count": 297,
     "metadata": {},
     "output_type": "execute_result"
    }
   ],
   "source": [
    "randint(0,100)"
   ]
  },
  {
   "cell_type": "code",
   "execution_count": 298,
   "id": "7496d75d",
   "metadata": {},
   "outputs": [],
   "source": [
    "mynum = randint(0,100)"
   ]
  },
  {
   "cell_type": "code",
   "execution_count": 299,
   "id": "b40ae897",
   "metadata": {},
   "outputs": [
    {
     "data": {
      "text/plain": [
       "10"
      ]
     },
     "execution_count": 299,
     "metadata": {},
     "output_type": "execute_result"
    }
   ],
   "source": [
    "mynum"
   ]
  },
  {
   "cell_type": "markdown",
   "id": "0a123ae5",
   "metadata": {},
   "source": [
    "### Input"
   ]
  },
  {
   "cell_type": "code",
   "execution_count": 305,
   "id": "c08224c7",
   "metadata": {},
   "outputs": [
    {
     "name": "stdout",
     "output_type": "stream",
     "text": [
      "Enter a number here: 13\n"
     ]
    }
   ],
   "source": [
    "result_num = input('Enter a number here: ') # the number will be saved as a string and not a int-number "
   ]
  },
  {
   "cell_type": "code",
   "execution_count": 307,
   "id": "b4a83bec",
   "metadata": {},
   "outputs": [
    {
     "name": "stdout",
     "output_type": "stream",
     "text": [
      "Enter a number here: 39\n"
     ]
    }
   ],
   "source": [
    "# Alternative to get an int\n",
    "result_num = int(input('Enter a number here: ')) # now it will be an int"
   ]
  },
  {
   "cell_type": "code",
   "execution_count": 309,
   "id": "323c650f",
   "metadata": {},
   "outputs": [
    {
     "data": {
      "text/plain": [
       "int"
      ]
     },
     "execution_count": 309,
     "metadata": {},
     "output_type": "execute_result"
    }
   ],
   "source": [
    "type(result_num)"
   ]
  },
  {
   "cell_type": "code",
   "execution_count": 310,
   "id": "564d6f02",
   "metadata": {},
   "outputs": [
    {
     "data": {
      "text/plain": [
       "39"
      ]
     },
     "execution_count": 310,
     "metadata": {},
     "output_type": "execute_result"
    }
   ],
   "source": [
    "result_num"
   ]
  },
  {
   "cell_type": "code",
   "execution_count": 302,
   "id": "bdccb385",
   "metadata": {},
   "outputs": [
    {
     "name": "stdout",
     "output_type": "stream",
     "text": [
      "What is your name? Victor\n"
     ]
    }
   ],
   "source": [
    "name = input('What is your name? ')"
   ]
  },
  {
   "cell_type": "code",
   "execution_count": 304,
   "id": "2ff07abb",
   "metadata": {},
   "outputs": [
    {
     "name": "stdout",
     "output_type": "stream",
     "text": [
      "Hi, Victor\n"
     ]
    }
   ],
   "source": [
    "print(f'Hi, {name}')"
   ]
  },
  {
   "cell_type": "markdown",
   "id": "e9884f36",
   "metadata": {},
   "source": [
    "## List comprehensions"
   ]
  },
  {
   "cell_type": "code",
   "execution_count": 313,
   "id": "e56544d1",
   "metadata": {},
   "outputs": [],
   "source": [
    "mylist = [x for x in 'Hello'] # alternative to for loop with append on every loop"
   ]
  },
  {
   "cell_type": "code",
   "execution_count": 314,
   "id": "ca82b7b7",
   "metadata": {},
   "outputs": [
    {
     "data": {
      "text/plain": [
       "['H', 'e', 'l', 'l', 'o']"
      ]
     },
     "execution_count": 314,
     "metadata": {},
     "output_type": "execute_result"
    }
   ],
   "source": [
    "mylist"
   ]
  },
  {
   "cell_type": "code",
   "execution_count": 327,
   "id": "f8348532",
   "metadata": {},
   "outputs": [],
   "source": [
    "mylist = [num for num in range(0,13,2)] # making a list of each number in the range"
   ]
  },
  {
   "cell_type": "code",
   "execution_count": 328,
   "id": "f56848ad",
   "metadata": {},
   "outputs": [
    {
     "data": {
      "text/plain": [
       "[0, 2, 4, 6, 8, 10, 12]"
      ]
     },
     "execution_count": 328,
     "metadata": {},
     "output_type": "execute_result"
    }
   ],
   "source": [
    "mylist"
   ]
  },
  {
   "cell_type": "code",
   "execution_count": 329,
   "id": "1e6bcf30",
   "metadata": {},
   "outputs": [],
   "source": [
    "mylist = [num**2 for num in range(0,13,2)] # can also make square of the numbers in the range"
   ]
  },
  {
   "cell_type": "code",
   "execution_count": 330,
   "id": "673696a3",
   "metadata": {},
   "outputs": [
    {
     "data": {
      "text/plain": [
       "[0, 4, 16, 36, 64, 100, 144]"
      ]
     },
     "execution_count": 330,
     "metadata": {},
     "output_type": "execute_result"
    }
   ],
   "source": [
    "mylist"
   ]
  },
  {
   "cell_type": "markdown",
   "id": "cd6351ef",
   "metadata": {},
   "source": [
    "## Methods"
   ]
  },
  {
   "cell_type": "code",
   "execution_count": 1,
   "id": "bdd7714f",
   "metadata": {},
   "outputs": [],
   "source": [
    "mylist = [1,2,3]"
   ]
  },
  {
   "cell_type": "code",
   "execution_count": 2,
   "id": "053d49be",
   "metadata": {},
   "outputs": [],
   "source": [
    "mylist.append(4)"
   ]
  },
  {
   "cell_type": "code",
   "execution_count": 3,
   "id": "bc7bbdae",
   "metadata": {},
   "outputs": [
    {
     "data": {
      "text/plain": [
       "[1, 2, 3, 4]"
      ]
     },
     "execution_count": 3,
     "metadata": {},
     "output_type": "execute_result"
    }
   ],
   "source": [
    "mylist"
   ]
  },
  {
   "cell_type": "code",
   "execution_count": 13,
   "id": "2ff35788",
   "metadata": {},
   "outputs": [
    {
     "data": {
      "text/plain": [
       "4"
      ]
     },
     "execution_count": 13,
     "metadata": {},
     "output_type": "execute_result"
    }
   ],
   "source": [
    "mylist.pop()"
   ]
  },
  {
   "cell_type": "code",
   "execution_count": 14,
   "id": "11c40b3c",
   "metadata": {},
   "outputs": [
    {
     "data": {
      "text/plain": [
       "[1, 2, 3]"
      ]
     },
     "execution_count": 14,
     "metadata": {},
     "output_type": "execute_result"
    }
   ],
   "source": [
    "mylist"
   ]
  },
  {
   "cell_type": "markdown",
   "id": "321ab668",
   "metadata": {},
   "source": [
    "### Finne metoder"
   ]
  },
  {
   "cell_type": "markdown",
   "id": "2c40426b",
   "metadata": {},
   "source": [
    "mylist. # Skriv dette og trykk TAB når man står etter punktum. Får da oversikt over mulige metoder til listen"
   ]
  },
  {
   "cell_type": "markdown",
   "id": "1cf543fb",
   "metadata": {},
   "source": [
    "#### Help function"
   ]
  },
  {
   "cell_type": "code",
   "execution_count": 20,
   "id": "6c8ee499",
   "metadata": {},
   "outputs": [
    {
     "name": "stdout",
     "output_type": "stream",
     "text": [
      "Help on built-in function insert:\n",
      "\n",
      "insert(index, object, /) method of builtins.list instance\n",
      "    Insert object before index.\n",
      "\n"
     ]
    }
   ],
   "source": [
    "help(mylist.insert) # Kan bruke help-function for å finne hjelp til metoder man ikke kjenner"
   ]
  },
  {
   "cell_type": "markdown",
   "id": "8ab67a5e",
   "metadata": {},
   "source": [
    "Kan også se i Python Dokumentasjon på http://docs.python.org/3/"
   ]
  },
  {
   "cell_type": "markdown",
   "id": "e59a6eb8",
   "metadata": {},
   "source": [
    "## Functions"
   ]
  },
  {
   "cell_type": "markdown",
   "id": "d52ae923",
   "metadata": {},
   "source": [
    "Example function 1 - Easy"
   ]
  },
  {
   "cell_type": "code",
   "execution_count": 16,
   "id": "62b836e3",
   "metadata": {},
   "outputs": [],
   "source": [
    "def say_hello(name='Default name'): # Can have functions with parameter \"name\" or just blank inside\n",
    "    '''Docstring is where I can\n",
    "    Explain in multiple lines what\n",
    "    the function does'''\n",
    "    \n",
    "    print(f'Hello {name}')"
   ]
  },
  {
   "cell_type": "code",
   "execution_count": 15,
   "id": "0afd66f3",
   "metadata": {},
   "outputs": [
    {
     "name": "stdout",
     "output_type": "stream",
     "text": [
      "Hello Victor\n"
     ]
    }
   ],
   "source": [
    "say_hello('Victor')"
   ]
  },
  {
   "cell_type": "code",
   "execution_count": 17,
   "id": "5d914a82",
   "metadata": {},
   "outputs": [
    {
     "name": "stdout",
     "output_type": "stream",
     "text": [
      "Hello Default name\n"
     ]
    }
   ],
   "source": [
    "say_hello()"
   ]
  },
  {
   "cell_type": "markdown",
   "id": "313a63ae",
   "metadata": {},
   "source": [
    "Example function 2"
   ]
  },
  {
   "cell_type": "code",
   "execution_count": 6,
   "id": "83c9ce15",
   "metadata": {},
   "outputs": [],
   "source": [
    "def add_function(num1,num2):\n",
    "    return num1 + num2"
   ]
  },
  {
   "cell_type": "code",
   "execution_count": 18,
   "id": "ae9deb38",
   "metadata": {},
   "outputs": [],
   "source": [
    "result = add_function(10,20) # The return function can add the result to a variable (result), print can not"
   ]
  },
  {
   "cell_type": "code",
   "execution_count": 19,
   "id": "0fb445e3",
   "metadata": {},
   "outputs": [
    {
     "name": "stdout",
     "output_type": "stream",
     "text": [
      "30\n"
     ]
    }
   ],
   "source": [
    "print(result)"
   ]
  },
  {
   "cell_type": "code",
   "execution_count": 27,
   "id": "34c1ecea",
   "metadata": {},
   "outputs": [
    {
     "name": "stdout",
     "output_type": "stream",
     "text": [
      "set number67\n"
     ]
    }
   ],
   "source": [
    "num1 = int(input('set number'))"
   ]
  },
  {
   "cell_type": "code",
   "execution_count": 28,
   "id": "6b88a281",
   "metadata": {},
   "outputs": [
    {
     "data": {
      "text/plain": [
       "int"
      ]
     },
     "execution_count": 28,
     "metadata": {},
     "output_type": "execute_result"
    }
   ],
   "source": [
    "type(num1)"
   ]
  },
  {
   "cell_type": "markdown",
   "id": "532b228b",
   "metadata": {},
   "source": [
    "## Logic"
   ]
  },
  {
   "cell_type": "markdown",
   "id": "286ed7b0",
   "metadata": {},
   "source": [
    "### Function to check even numbers"
   ]
  },
  {
   "cell_type": "code",
   "execution_count": 32,
   "id": "83796c66",
   "metadata": {},
   "outputs": [],
   "source": [
    "def even_check(number):\n",
    "    return number % 2 == 0"
   ]
  },
  {
   "cell_type": "code",
   "execution_count": 33,
   "id": "bef74f6d",
   "metadata": {},
   "outputs": [
    {
     "data": {
      "text/plain": [
       "True"
      ]
     },
     "execution_count": 33,
     "metadata": {},
     "output_type": "execute_result"
    }
   ],
   "source": [
    "even_check(20)"
   ]
  },
  {
   "cell_type": "code",
   "execution_count": 34,
   "id": "ba42f1da",
   "metadata": {},
   "outputs": [
    {
     "data": {
      "text/plain": [
       "False"
      ]
     },
     "execution_count": 34,
     "metadata": {},
     "output_type": "execute_result"
    }
   ],
   "source": [
    "even_check(21)"
   ]
  },
  {
   "cell_type": "code",
   "execution_count": 45,
   "id": "686f991f",
   "metadata": {},
   "outputs": [],
   "source": [
    "# RETURN TRUE IF ANY NUMBER IS EVEN INSIDE A LIST\n",
    "def check_even_list(num_list):\n",
    "    \n",
    "    for number in num_list:\n",
    "        if number % 2 == 0:\n",
    "            return True\n",
    "        else:\n",
    "            pass # return False here would be WRONG as it would break out and say False at the first odd number\n",
    "    return False # retutn False here will only happen if there is no even numbers, after going to else (no even numbers)"
   ]
  },
  {
   "cell_type": "code",
   "execution_count": 48,
   "id": "f82fb58d",
   "metadata": {},
   "outputs": [
    {
     "data": {
      "text/plain": [
       "True"
      ]
     },
     "execution_count": 48,
     "metadata": {},
     "output_type": "execute_result"
    }
   ],
   "source": [
    "check_even_list([1,3,2,5])"
   ]
  },
  {
   "cell_type": "code",
   "execution_count": 51,
   "id": "ecac4f1d",
   "metadata": {},
   "outputs": [],
   "source": [
    "def check_even_list(num_list):\n",
    "    # return all even numbers\n",
    "\n",
    "    even_numbers = [] # placeholder variable\n",
    "    \n",
    "    \n",
    "    for number in num_list:\n",
    "        if number % 2 == 0:\n",
    "            even_numbers.append(number)\n",
    "        else:\n",
    "            pass\n",
    "    return even_numbers\n"
   ]
  },
  {
   "cell_type": "code",
   "execution_count": 52,
   "id": "99b77d8b",
   "metadata": {},
   "outputs": [
    {
     "data": {
      "text/plain": [
       "[2, 4, 6, 8]"
      ]
     },
     "execution_count": 52,
     "metadata": {},
     "output_type": "execute_result"
    }
   ],
   "source": [
    "check_even_list([1,2,3,4,5,6,8,9])"
   ]
  },
  {
   "cell_type": "markdown",
   "id": "7d2efbbf",
   "metadata": {},
   "source": [
    "### Function for tuples"
   ]
  },
  {
   "cell_type": "code",
   "execution_count": 60,
   "id": "6cb25ee9",
   "metadata": {},
   "outputs": [],
   "source": [
    "work_hours = [('Abby',100),('Billy',4000),('Cassie',800)]"
   ]
  },
  {
   "cell_type": "code",
   "execution_count": 58,
   "id": "6be559c2",
   "metadata": {},
   "outputs": [],
   "source": [
    "def emplyee_check(work_hours):\n",
    "    \n",
    "    current_max = 0\n",
    "    employee_of_month = ''\n",
    "    \n",
    "    for employee,hours in work_hours:\n",
    "        if hours > current_max:\n",
    "            current_max = hours\n",
    "            employee_of_month = employee\n",
    "        else:\n",
    "            pass\n",
    "    \n",
    "    # Return\n",
    "    return (employee_of_month,current_max)"
   ]
  },
  {
   "cell_type": "code",
   "execution_count": 66,
   "id": "ef3e4601",
   "metadata": {},
   "outputs": [
    {
     "data": {
      "text/plain": [
       "('Billy', 4000)"
      ]
     },
     "execution_count": 66,
     "metadata": {},
     "output_type": "execute_result"
    }
   ],
   "source": [
    "emplyee_check(work_hours)"
   ]
  },
  {
   "cell_type": "code",
   "execution_count": 67,
   "id": "bf49a9cd",
   "metadata": {},
   "outputs": [
    {
     "data": {
      "text/plain": [
       "2"
      ]
     },
     "execution_count": 67,
     "metadata": {},
     "output_type": "execute_result"
    }
   ],
   "source": [
    "len(emplyee_check(work_hours))"
   ]
  },
  {
   "cell_type": "code",
   "execution_count": 65,
   "id": "5d24b28a",
   "metadata": {},
   "outputs": [],
   "source": [
    "name,hours = emplyee_check(work_hours) # Tuple unpacking with function call"
   ]
  },
  {
   "cell_type": "code",
   "execution_count": 63,
   "id": "97276ee8",
   "metadata": {},
   "outputs": [
    {
     "data": {
      "text/plain": [
       "'Billy'"
      ]
     },
     "execution_count": 63,
     "metadata": {},
     "output_type": "execute_result"
    }
   ],
   "source": [
    "name"
   ]
  },
  {
   "cell_type": "code",
   "execution_count": 64,
   "id": "5473edac",
   "metadata": {},
   "outputs": [
    {
     "data": {
      "text/plain": [
       "4000"
      ]
     },
     "execution_count": 64,
     "metadata": {},
     "output_type": "execute_result"
    }
   ],
   "source": [
    "hours"
   ]
  },
  {
   "cell_type": "markdown",
   "id": "6f5531fb",
   "metadata": {},
   "source": [
    "### Interaction between functions"
   ]
  },
  {
   "cell_type": "code",
   "execution_count": 68,
   "id": "e0d18d7b",
   "metadata": {},
   "outputs": [],
   "source": [
    "example = [1,2,3,4,5,6,7]"
   ]
  },
  {
   "cell_type": "code",
   "execution_count": 69,
   "id": "5acc7a80",
   "metadata": {},
   "outputs": [],
   "source": [
    "from random import shuffle"
   ]
  },
  {
   "cell_type": "code",
   "execution_count": 74,
   "id": "ff05f710",
   "metadata": {},
   "outputs": [],
   "source": [
    "result = shuffle(example) # result won't work because the shuffle won't return anything new, just shuffle the list"
   ]
  },
  {
   "cell_type": "code",
   "execution_count": 72,
   "id": "19a929c9",
   "metadata": {},
   "outputs": [
    {
     "data": {
      "text/plain": [
       "[3, 4, 7, 6, 5, 2, 1]"
      ]
     },
     "execution_count": 72,
     "metadata": {},
     "output_type": "execute_result"
    }
   ],
   "source": [
    "example"
   ]
  },
  {
   "cell_type": "code",
   "execution_count": 76,
   "id": "5f8ca7b2",
   "metadata": {},
   "outputs": [],
   "source": [
    "result # result won't return anything"
   ]
  },
  {
   "cell_type": "markdown",
   "id": "1f60ed83",
   "metadata": {},
   "source": [
    "#### Making a shuffle function with a returned result"
   ]
  },
  {
   "cell_type": "code",
   "execution_count": 101,
   "id": "b091039d",
   "metadata": {},
   "outputs": [],
   "source": [
    "def shuffle_list(mylist):\n",
    "    shuffle(mylist)\n",
    "    return(mylist) #this will also return the list instead of just the shuffle"
   ]
  },
  {
   "cell_type": "code",
   "execution_count": 102,
   "id": "614fd5ec",
   "metadata": {},
   "outputs": [],
   "source": [
    "result = shuffle_list(example) # using the function to return a result from my example list"
   ]
  },
  {
   "cell_type": "code",
   "execution_count": 103,
   "id": "e21d4654",
   "metadata": {},
   "outputs": [
    {
     "data": {
      "text/plain": [
       "[5, 4, 2, 3, 7, 6, 1]"
      ]
     },
     "execution_count": 103,
     "metadata": {},
     "output_type": "execute_result"
    }
   ],
   "source": [
    "result"
   ]
  },
  {
   "cell_type": "markdown",
   "id": "46e1787f",
   "metadata": {},
   "source": [
    "#### \"Tree cup monty\""
   ]
  },
  {
   "cell_type": "code",
   "execution_count": 104,
   "id": "8b24d03b",
   "metadata": {},
   "outputs": [],
   "source": [
    "monty_list = [' ','O',' ']"
   ]
  },
  {
   "cell_type": "code",
   "execution_count": 105,
   "id": "e1b89e1a",
   "metadata": {},
   "outputs": [
    {
     "data": {
      "text/plain": [
       "['O', ' ', ' ']"
      ]
     },
     "execution_count": 105,
     "metadata": {},
     "output_type": "execute_result"
    }
   ],
   "source": [
    "shuffle_list(monty_list) # Showing the \"ball\" in a random location"
   ]
  },
  {
   "cell_type": "code",
   "execution_count": 106,
   "id": "c0875ff1",
   "metadata": {},
   "outputs": [],
   "source": [
    "def player_guess():\n",
    "    guess = ''\n",
    "    \n",
    "    while guess not in ['0','1','2']: # Ask again if not in...\n",
    "        guess = input('Pick a number: 0, 1 or 2 ')\n",
    "        \n",
    "    return int(guess)"
   ]
  },
  {
   "cell_type": "code",
   "execution_count": 98,
   "id": "dc161f2d",
   "metadata": {},
   "outputs": [
    {
     "name": "stdout",
     "output_type": "stream",
     "text": [
      "Pick a number: 0, 1 or 2 5\n",
      "Pick a number: 0, 1 or 2 2\n"
     ]
    },
    {
     "data": {
      "text/plain": [
       "2"
      ]
     },
     "execution_count": 98,
     "metadata": {},
     "output_type": "execute_result"
    }
   ],
   "source": [
    "player_guess() # Run the function, if not 0, 1 or 2 it will ask again"
   ]
  },
  {
   "cell_type": "code",
   "execution_count": 107,
   "id": "e897b61f",
   "metadata": {},
   "outputs": [
    {
     "name": "stdout",
     "output_type": "stream",
     "text": [
      "Pick a number: 0, 1 or 2 2\n"
     ]
    }
   ],
   "source": [
    "my_index = player_guess()"
   ]
  },
  {
   "cell_type": "code",
   "execution_count": 108,
   "id": "0296e72b",
   "metadata": {},
   "outputs": [
    {
     "data": {
      "text/plain": [
       "2"
      ]
     },
     "execution_count": 108,
     "metadata": {},
     "output_type": "execute_result"
    }
   ],
   "source": [
    "my_index"
   ]
  },
  {
   "cell_type": "code",
   "execution_count": 110,
   "id": "e325d963",
   "metadata": {},
   "outputs": [],
   "source": [
    "def check_guess(monty_list,guess):\n",
    "    if monty_list[guess] == 'O':\n",
    "        print('Hurray, you found the ball')\n",
    "    else:\n",
    "        print('Sorry, wrong cup')\n",
    "        print(monty_list)"
   ]
  },
  {
   "cell_type": "code",
   "execution_count": 112,
   "id": "edc79d66",
   "metadata": {},
   "outputs": [
    {
     "name": "stdout",
     "output_type": "stream",
     "text": [
      "Pick a number: 0, 1 or 2 1\n",
      "Sorry, wrong cup\n",
      "['O', ' ', ' ']\n"
     ]
    }
   ],
   "source": [
    "# INITIAL LIST\n",
    "mylist = [' ','O',' ']\n",
    "\n",
    "# SHUFFLE THE LIST\n",
    "mixedup_list = shuffle_list(mylist)\n",
    "\n",
    "# USER GUESS\n",
    "guess = player_guess()\n",
    "\n",
    "# CHECK GUESS\n",
    "check_guess(mixedup_list,guess)"
   ]
  },
  {
   "cell_type": "markdown",
   "id": "c12473cd",
   "metadata": {},
   "source": [
    "## *args and **kwargs"
   ]
  },
  {
   "cell_type": "code",
   "execution_count": 116,
   "id": "fc0b2bac",
   "metadata": {},
   "outputs": [],
   "source": [
    "def myfunc(a,b,c=0,d=0,e=0): # adding numbers that is default \"0\" if not added\n",
    "    # Returns 5% of the sum of a and b\n",
    "    return sum((a,b,c,d,e)) * 0.05"
   ]
  },
  {
   "cell_type": "code",
   "execution_count": 118,
   "id": "81c9554d",
   "metadata": {},
   "outputs": [
    {
     "ename": "TypeError",
     "evalue": "myfunc() takes from 2 to 5 positional arguments but 6 were given",
     "output_type": "error",
     "traceback": [
      "\u001b[1;31m---------------------------------------------------------------------------\u001b[0m",
      "\u001b[1;31mTypeError\u001b[0m                                 Traceback (most recent call last)",
      "\u001b[1;32m~\\AppData\\Local\\Temp\\ipykernel_4436\\3005205479.py\u001b[0m in \u001b[0;36m<module>\u001b[1;34m\u001b[0m\n\u001b[1;32m----> 1\u001b[1;33m \u001b[0mmyfunc\u001b[0m\u001b[1;33m(\u001b[0m\u001b[1;36m40\u001b[0m\u001b[1;33m,\u001b[0m\u001b[1;36m60\u001b[0m\u001b[1;33m,\u001b[0m\u001b[1;36m100\u001b[0m\u001b[1;33m,\u001b[0m\u001b[1;36m3\u001b[0m\u001b[1;33m,\u001b[0m\u001b[1;36m4\u001b[0m\u001b[1;33m,\u001b[0m\u001b[1;36m5\u001b[0m\u001b[1;33m)\u001b[0m \u001b[1;31m# Can add up to 5 numbers a-e, but it'll hit a limit at 5\u001b[0m\u001b[1;33m\u001b[0m\u001b[1;33m\u001b[0m\u001b[0m\n\u001b[0m",
      "\u001b[1;31mTypeError\u001b[0m: myfunc() takes from 2 to 5 positional arguments but 6 were given"
     ]
    }
   ],
   "source": [
    "myfunc(40,60,100,3,4,5) # Can add up to 5 numbers a-e, but it'll hit a limit at 5"
   ]
  },
  {
   "cell_type": "markdown",
   "id": "e0028ccd",
   "metadata": {},
   "source": [
    "### how to add inlimited number of optional arguments to myfunc"
   ]
  },
  {
   "cell_type": "code",
   "execution_count": 148,
   "id": "5437ad5b",
   "metadata": {},
   "outputs": [],
   "source": [
    "def myfunc(*args): # returns a tuple og all given arguments when function is run\n",
    "    return sum(args) * 0.05 # the word args is not needed, it can be any word with a star in front (f.eks *spam)"
   ]
  },
  {
   "cell_type": "code",
   "execution_count": 149,
   "id": "912df4bf",
   "metadata": {},
   "outputs": [
    {
     "data": {
      "text/plain": [
       "17.1"
      ]
     },
     "execution_count": 149,
     "metadata": {},
     "output_type": "execute_result"
    }
   ],
   "source": [
    "myfunc(10,24,56,32,67,86,43,24) # no limit to number of arguments called in the function"
   ]
  },
  {
   "cell_type": "markdown",
   "id": "5591042b",
   "metadata": {},
   "source": [
    "### **kwargs (Key Word Arguments)"
   ]
  },
  {
   "cell_type": "code",
   "execution_count": 145,
   "id": "ac080730",
   "metadata": {},
   "outputs": [],
   "source": [
    "def myfunc(**kwargs): # Returns a dictionary\n",
    "    print(kwargs) # shows that kwags is a dictionary\n",
    "    if 'fruit' in kwargs:\n",
    "        print('My fruit of choice is {}'.format(kwargs['fruit']))\n",
    "    else:\n",
    "        print('I did not find any fruit here')"
   ]
  },
  {
   "cell_type": "code",
   "execution_count": 146,
   "id": "0226e2a6",
   "metadata": {},
   "outputs": [
    {
     "name": "stdout",
     "output_type": "stream",
     "text": [
      "{'fruit': 'apple', 'veggie': 'tomato'}\n",
      "My fruit of choice is apple\n"
     ]
    }
   ],
   "source": [
    "myfunc(fruit='apple', veggie='tomato')"
   ]
  },
  {
   "cell_type": "code",
   "execution_count": 147,
   "id": "1b71df14",
   "metadata": {},
   "outputs": [
    {
     "name": "stdout",
     "output_type": "stream",
     "text": [
      "{'veggie': 'carrot'}\n",
      "I did not find any fruit here\n"
     ]
    }
   ],
   "source": [
    "myfunc(veggie='carrot')"
   ]
  },
  {
   "cell_type": "markdown",
   "id": "989a9f8e",
   "metadata": {},
   "source": [
    "### USing both *args and **kwargs"
   ]
  },
  {
   "cell_type": "code",
   "execution_count": 153,
   "id": "fa217d1a",
   "metadata": {},
   "outputs": [],
   "source": [
    "def myfunc(*args,**kwargs):\n",
    "    print('I would like {} {}'.format(args[0],kwargs['food']))"
   ]
  },
  {
   "cell_type": "code",
   "execution_count": 154,
   "id": "ef258e9f",
   "metadata": {},
   "outputs": [
    {
     "name": "stdout",
     "output_type": "stream",
     "text": [
      "I would like 29 eggs\n"
     ]
    }
   ],
   "source": [
    "myfunc(29,35,67,veggie='carrot',food='eggs')"
   ]
  },
  {
   "cell_type": "code",
   "execution_count": 159,
   "id": "a06276c3",
   "metadata": {},
   "outputs": [],
   "source": [
    "def myfunc(x):\n",
    "    out = []\n",
    "    for i in range(len(x)):\n",
    "        if i%2==0:\n",
    "            out.append(x[i].lower())\n",
    "\n",
    "        else: \n",
    "            out.append(x[i].upper())\n",
    "\n",
    "    return ''.join(out)"
   ]
  },
  {
   "cell_type": "code",
   "execution_count": 161,
   "id": "796fef82",
   "metadata": {},
   "outputs": [
    {
     "data": {
      "text/plain": [
       "range(0, 5)"
      ]
     },
     "execution_count": 161,
     "metadata": {},
     "output_type": "execute_result"
    }
   ],
   "source": [
    "range(len('Hello'))"
   ]
  },
  {
   "cell_type": "markdown",
   "id": "2b07c6ae",
   "metadata": {},
   "source": [
    "## Map function"
   ]
  },
  {
   "cell_type": "code",
   "execution_count": 1,
   "id": "3926bf89",
   "metadata": {},
   "outputs": [],
   "source": [
    "def square(num):\n",
    "    return num**2"
   ]
  },
  {
   "cell_type": "code",
   "execution_count": 2,
   "id": "8890db1a",
   "metadata": {},
   "outputs": [],
   "source": [
    "my_nums = [1,2,3,4,5]"
   ]
  },
  {
   "cell_type": "code",
   "execution_count": 3,
   "id": "72563ebc",
   "metadata": {},
   "outputs": [
    {
     "data": {
      "text/plain": [
       "<map at 0x277f4f03130>"
      ]
     },
     "execution_count": 3,
     "metadata": {},
     "output_type": "execute_result"
    }
   ],
   "source": [
    "map(square,my_nums) # Returns the place on my computer memory where the info is stored, not very usefull"
   ]
  },
  {
   "cell_type": "code",
   "execution_count": 5,
   "id": "3fbd1a3b",
   "metadata": {},
   "outputs": [
    {
     "name": "stdout",
     "output_type": "stream",
     "text": [
      "1\n",
      "4\n",
      "9\n",
      "16\n",
      "25\n"
     ]
    }
   ],
   "source": [
    "for item in map(square,my_nums): # go through each iten with the func\n",
    "    print(item)"
   ]
  },
  {
   "cell_type": "code",
   "execution_count": 7,
   "id": "d71ab7e4",
   "metadata": {},
   "outputs": [
    {
     "data": {
      "text/plain": [
       "[1, 4, 9, 16, 25]"
      ]
     },
     "execution_count": 7,
     "metadata": {},
     "output_type": "execute_result"
    }
   ],
   "source": [
    "list(map(square,my_nums)) # Gets back the items in the list as squared items"
   ]
  },
  {
   "cell_type": "code",
   "execution_count": 8,
   "id": "4da164e6",
   "metadata": {},
   "outputs": [],
   "source": [
    "# another more complex function\n",
    "def splicer(mystring):\n",
    "    if len(mystring) % 2 == 0: # if number of characters in mystring is even\n",
    "        return 'EVEN'\n",
    "    else:\n",
    "        return mystring[0]"
   ]
  },
  {
   "cell_type": "code",
   "execution_count": 11,
   "id": "bfa10b69",
   "metadata": {},
   "outputs": [],
   "source": [
    "names = ['Andy','Jacky','Philipa']"
   ]
  },
  {
   "cell_type": "code",
   "execution_count": 12,
   "id": "7820673b",
   "metadata": {},
   "outputs": [
    {
     "data": {
      "text/plain": [
       "['EVEN', 'J', 'P']"
      ]
     },
     "execution_count": 12,
     "metadata": {},
     "output_type": "execute_result"
    }
   ],
   "source": [
    "list(map(splicer,names))"
   ]
  },
  {
   "cell_type": "markdown",
   "id": "a30d69e2",
   "metadata": {},
   "source": [
    "## Filter function"
   ]
  },
  {
   "cell_type": "code",
   "execution_count": 13,
   "id": "e1d69e6f",
   "metadata": {},
   "outputs": [],
   "source": [
    "def check_even(num): # make a function that returns True or False\n",
    "    return num%2 == 0 # if even it will return True, if odd it will return False"
   ]
  },
  {
   "cell_type": "code",
   "execution_count": 14,
   "id": "cb39996b",
   "metadata": {},
   "outputs": [],
   "source": [
    "mynums = [1,2,3,4,5,6]"
   ]
  },
  {
   "cell_type": "code",
   "execution_count": 15,
   "id": "e40271cb",
   "metadata": {},
   "outputs": [
    {
     "data": {
      "text/plain": [
       "<filter at 0x277f4f03fd0>"
      ]
     },
     "execution_count": 15,
     "metadata": {},
     "output_type": "execute_result"
    }
   ],
   "source": [
    "filter(check_even,mynums) # Returns the place on my computer memory where the info is stored, not very usefull"
   ]
  },
  {
   "cell_type": "code",
   "execution_count": 16,
   "id": "7efbfd0f",
   "metadata": {},
   "outputs": [
    {
     "data": {
      "text/plain": [
       "[2, 4, 6]"
      ]
     },
     "execution_count": 16,
     "metadata": {},
     "output_type": "execute_result"
    }
   ],
   "source": [
    "list(filter(check_even,mynums))"
   ]
  },
  {
   "cell_type": "code",
   "execution_count": 18,
   "id": "781d24a3",
   "metadata": {},
   "outputs": [
    {
     "name": "stdout",
     "output_type": "stream",
     "text": [
      "2\n",
      "4\n",
      "6\n"
     ]
    }
   ],
   "source": [
    "for n in filter(check_even,mynums):\n",
    "    print(n)"
   ]
  },
  {
   "cell_type": "code",
   "execution_count": 22,
   "id": "da967de4",
   "metadata": {},
   "outputs": [],
   "source": [
    "my_filtered_nums = list(filter(check_even,mynums))"
   ]
  },
  {
   "cell_type": "code",
   "execution_count": 23,
   "id": "06fd6890",
   "metadata": {},
   "outputs": [
    {
     "data": {
      "text/plain": [
       "[2, 4, 6]"
      ]
     },
     "execution_count": 23,
     "metadata": {},
     "output_type": "execute_result"
    }
   ],
   "source": [
    "my_filtered_nums"
   ]
  },
  {
   "cell_type": "markdown",
   "id": "4b87bd85",
   "metadata": {},
   "source": [
    "## Lambda expressions"
   ]
  },
  {
   "cell_type": "code",
   "execution_count": 25,
   "id": "8a376cea",
   "metadata": {},
   "outputs": [],
   "source": [
    "def square(num):\n",
    "    result = num**2\n",
    "    return result"
   ]
  },
  {
   "cell_type": "code",
   "execution_count": 26,
   "id": "48a3e100",
   "metadata": {},
   "outputs": [
    {
     "data": {
      "text/plain": [
       "9"
      ]
     },
     "execution_count": 26,
     "metadata": {},
     "output_type": "execute_result"
    }
   ],
   "source": [
    "square(3)"
   ]
  },
  {
   "cell_type": "code",
   "execution_count": 28,
   "id": "6353f039",
   "metadata": {},
   "outputs": [],
   "source": [
    "# simplify function\n",
    "def square(num): return num**2 # simple one line func, but not as readable code "
   ]
  },
  {
   "cell_type": "code",
   "execution_count": 29,
   "id": "3024e72f",
   "metadata": {},
   "outputs": [
    {
     "data": {
      "text/plain": [
       "16"
      ]
     },
     "execution_count": 29,
     "metadata": {},
     "output_type": "execute_result"
    }
   ],
   "source": [
    "square(4)"
   ]
  },
  {
   "cell_type": "code",
   "execution_count": 30,
   "id": "abcfe788",
   "metadata": {},
   "outputs": [],
   "source": [
    "# Lanmbda expression is even simpler, as it is only intended to run once and doesn't need a func name\n",
    "square = lambda num: num**2 # can name it to square and it will work as before"
   ]
  },
  {
   "cell_type": "code",
   "execution_count": 31,
   "id": "3b9703b8",
   "metadata": {},
   "outputs": [
    {
     "data": {
      "text/plain": [
       "25"
      ]
     },
     "execution_count": 31,
     "metadata": {},
     "output_type": "execute_result"
    }
   ],
   "source": [
    "square(5)"
   ]
  },
  {
   "cell_type": "code",
   "execution_count": 33,
   "id": "84ff79f3",
   "metadata": {},
   "outputs": [
    {
     "data": {
      "text/plain": [
       "[1, 4, 9, 16, 25, 36]"
      ]
     },
     "execution_count": 33,
     "metadata": {},
     "output_type": "execute_result"
    }
   ],
   "source": [
    "# But even better, can use it one time in conjunction with Map or Filter function\n",
    "list(map(lambda num: num**2,mynums)) # will return what the one-time-function asks with the givven list"
   ]
  },
  {
   "cell_type": "code",
   "execution_count": 35,
   "id": "16a62d86",
   "metadata": {},
   "outputs": [
    {
     "data": {
      "text/plain": [
       "[2, 4, 6]"
      ]
     },
     "execution_count": 35,
     "metadata": {},
     "output_type": "execute_result"
    }
   ],
   "source": [
    "list(filter(lambda num: num%2 == 0,mynums)) # the same with the lambda version of check_even filter"
   ]
  },
  {
   "cell_type": "code",
   "execution_count": 36,
   "id": "6fca1042",
   "metadata": {},
   "outputs": [
    {
     "data": {
      "text/plain": [
       "['Andy', 'Jacky', 'Philipa']"
      ]
     },
     "execution_count": 36,
     "metadata": {},
     "output_type": "execute_result"
    }
   ],
   "source": [
    "names"
   ]
  },
  {
   "cell_type": "code",
   "execution_count": 41,
   "id": "76dcf818",
   "metadata": {},
   "outputs": [
    {
     "data": {
      "text/plain": [
       "['A', 'J', 'P']"
      ]
     },
     "execution_count": 41,
     "metadata": {},
     "output_type": "execute_result"
    }
   ],
   "source": [
    "list(map(lambda name:name[0],names)) # return first caracter of each name in the list"
   ]
  },
  {
   "cell_type": "code",
   "execution_count": 43,
   "id": "3a359ac0",
   "metadata": {},
   "outputs": [
    {
     "data": {
      "text/plain": [
       "['ydnA', 'ykcaJ', 'apilihP']"
      ]
     },
     "execution_count": 43,
     "metadata": {},
     "output_type": "execute_result"
    }
   ],
   "source": [
    "list(map(lambda name:name[::-1],names)) # Reverse each name in the list"
   ]
  },
  {
   "cell_type": "code",
   "execution_count": null,
   "id": "b918bf3f",
   "metadata": {},
   "outputs": [],
   "source": []
  },
  {
   "cell_type": "code",
   "execution_count": null,
   "id": "a47008ea",
   "metadata": {},
   "outputs": [],
   "source": []
  }
 ],
 "metadata": {
  "kernelspec": {
   "display_name": "Python 3 (ipykernel)",
   "language": "python",
   "name": "python3"
  },
  "language_info": {
   "codemirror_mode": {
    "name": "ipython",
    "version": 3
   },
   "file_extension": ".py",
   "mimetype": "text/x-python",
   "name": "python",
   "nbconvert_exporter": "python",
   "pygments_lexer": "ipython3",
   "version": "3.9.13"
  }
 },
 "nbformat": 4,
 "nbformat_minor": 5
}
